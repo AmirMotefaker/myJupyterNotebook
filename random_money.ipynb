{
 "cells": [
  {
   "cell_type": "code",
   "execution_count": 1,
   "id": "5311c1fb-092f-4485-a12f-301f201475b9",
   "metadata": {},
   "outputs": [],
   "source": [
    "# code by amotef@gmail.com\n",
    "\n",
    "# Random_Money\n",
    "\n",
    "# farz konid yek otagh darim ke tosh 50 nafar adam hastand.va ha kodom az in adamha 100 dolar pol darand.\n",
    "# man miram to va yek beshkan mizanam,vaghti man beshkan mizanam har adami 1$ be ye adame random mideh,\n",
    "# beshkan badi ro ke mizanam har adami 1$ be ye adamae random dige mideh,...\n",
    "# (dar vagh az in tarigh dareh pol jabeja mishe). bad az ye modat chi misheh?\n",
    "# agar kasi polesh tamom shode boud, dige to bazi nist.\n",
    "# pas man ba har beshkanam ye adami(dar vagh har kodom az on adamha) 1$ random be ye adam dige midan.\n"
   ]
  },
  {
   "cell_type": "code",
   "execution_count": 2,
   "id": "eced65a4-43ef-4b61-a5e5-6df5151f85b0",
   "metadata": {},
   "outputs": [],
   "source": [
    "import random\n",
    "random.seed()\n",
    "#for i in range (1, 10):\n",
    "#    print(random.randrange(0, 2))\n",
    "    \n",
    "#return 0"
   ]
  },
  {
   "cell_type": "code",
   "execution_count": 3,
   "id": "618368ba-5dfa-4596-8977-5cffe651f8f4",
   "metadata": {},
   "outputs": [],
   "source": [
    "people = []\n",
    "for i in range (0, 50):\n",
    "    people.append(100)\n",
    "    \n",
    "for beshkan in range (0, 10000):\n",
    "    for person1 in range (0, 50):\n",
    "        \n",
    "        person2 = random.randrange(0, 50)\n",
    "        while people[person2] == 0:\n",
    "            person2 = random.randrange(0, 50)\n",
    "        \n",
    "        if people[person1] != 0:\n",
    "            #print(person1 ,person2)\n",
    "            people[person1] = people[person1] - 1\n",
    "            people[person2] = people[person2] + 1 \n",
    "            "
   ]
  },
  {
   "cell_type": "code",
   "execution_count": 4,
   "id": "f23ea123-694e-471f-aa2a-57e6458f31f5",
   "metadata": {},
   "outputs": [],
   "source": [
    "import matplotlib.pyplot as plt\n",
    "%matplotlib inline \n",
    "# %matplotlib inline for graphical inotebook-jupyter"
   ]
  },
  {
   "cell_type": "markdown",
   "id": "31703e65-ac5e-4903-865a-e1e893bb8dad",
   "metadata": {},
   "source": [
    "Random Money with Plot"
   ]
  },
  {
   "cell_type": "code",
   "execution_count": null,
   "id": "b07041e3-d236-4c7e-a691-287ae4a77e97",
   "metadata": {},
   "outputs": [
    {
     "data": {
      "text/plain": [
       "<BarContainer object of 50 artists>"
      ]
     },
     "execution_count": 5,
     "metadata": {},
     "output_type": "execute_result"
    },
    {
     "data": {
      "image/png": "[encoded data removed]",
      "text/plain": [
       "<Figure size 432x288 with 1 Axes>"
      ]
     },
     "metadata": {
      "needs_background": "light"
     },
     "output_type": "display_data"
    }
   ],
   "source": [
    "#people.sort()\n",
    "plt.bar(range (0, 50), sorted(people, reverse=True))"
   ]
  }
 ],
 "metadata": {
  "kernelspec": {
   "display_name": "Python 3 (ipykernel)",
   "language": "python",
   "name": "python3"
  },
  "language_info": {
   "codemirror_mode": {
    "name": "ipython",
    "version": 3
   },
   "file_extension": ".py",
   "mimetype": "text/x-python",
   "name": "python",
   "nbconvert_exporter": "python",
   "pygments_lexer": "ipython3",
   "version": "3.10.4"
  }
 },
 "nbformat": 4,
 "nbformat_minor": 5
}
