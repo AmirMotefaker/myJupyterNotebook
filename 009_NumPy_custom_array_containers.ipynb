{
 "cells": [
  {
   "cell_type": "markdown",
   "metadata": {},
   "source": [
    "**iting custom array containers**"
   ]
  },
  {
   "cell_type": "code",
   "execution_count": 2,
   "metadata": {},
   "outputs": [],
   "source": [
    "import numpy as np\n",
    "class DiagonalArray:\n",
    "    def __init__(self, N, value):\n",
    "        self._N = N\n",
    "        self._i = value\n",
    "    def __repr__(self):\n",
    "        return f\"{self.__class__.__name__}(N={self._N}, value={self._i})\"\n",
    "    def __array__(self, dtype=None):\n",
    "        return self._i * np.eye(self._N, dtype=dtype)"
   ]
  },
  {
   "cell_type": "code",
   "execution_count": 3,
   "metadata": {},
   "outputs": [
    {
     "data": {
      "text/plain": [
       "DiagonalArray(N=5, value=1)"
      ]
     },
     "execution_count": 3,
     "metadata": {},
     "output_type": "execute_result"
    }
   ],
   "source": [
    "arr = DiagonalArray(5, 1)\n",
    "arr"
   ]
  },
  {
   "cell_type": "code",
   "execution_count": 4,
   "metadata": {},
   "outputs": [
    {
     "data": {
      "text/plain": [
       "array([[1., 0., 0., 0., 0.],\n",
       "       [0., 1., 0., 0., 0.],\n",
       "       [0., 0., 1., 0., 0.],\n",
       "       [0., 0., 0., 1., 0.],\n",
       "       [0., 0., 0., 0., 1.]])"
      ]
     },
     "execution_count": 4,
     "metadata": {},
     "output_type": "execute_result"
    }
   ],
   "source": [
    "np.asarray(arr)"
   ]
  },
  {
   "cell_type": "code",
   "execution_count": 5,
   "metadata": {},
   "outputs": [
    {
     "data": {
      "text/plain": [
       "array([[2., 0., 0., 0., 0.],\n",
       "       [0., 2., 0., 0., 0.],\n",
       "       [0., 0., 2., 0., 0.],\n",
       "       [0., 0., 0., 2., 0.],\n",
       "       [0., 0., 0., 0., 2.]])"
      ]
     },
     "execution_count": 5,
     "metadata": {},
     "output_type": "execute_result"
    }
   ],
   "source": [
    "np.multiply(arr, 2)"
   ]
  },
  {
   "cell_type": "code",
   "execution_count": 6,
   "metadata": {},
   "outputs": [
    {
     "data": {
      "text/plain": [
       "numpy.ndarray"
      ]
     },
     "execution_count": 6,
     "metadata": {},
     "output_type": "execute_result"
    }
   ],
   "source": [
    "type(np.multiply(arr, 2))"
   ]
  },
  {
   "cell_type": "code",
   "execution_count": 7,
   "metadata": {},
   "outputs": [],
   "source": [
    "from numbers import Number\n",
    "class DiagonalArray:\n",
    "    def __init__(self, N, value):\n",
    "        self._N = N\n",
    "        self._i = value\n",
    "    def __repr__(self):\n",
    "        return f\"{self.__class__.__name__}(N={self._N}, value={self._i})\"\n",
    "    def __array__(self, dtype=None):\n",
    "        return self._i * np.eye(self._N, dtype=dtype)\n",
    "    def __array_ufunc__(self, ufunc, method, *inputs, **kwargs):\n",
    "        if method == '__call__':\n",
    "            N = None\n",
    "            scalars = []\n",
    "            for input in inputs:\n",
    "                if isinstance(input, Number):\n",
    "                    scalars.append(input)\n",
    "                elif isinstance(input, self.__class__):\n",
    "                    scalars.append(input._i)\n",
    "                    if N is not None:\n",
    "                        if N != self._N:\n",
    "                            raise TypeError(\"inconsistent sizes\")\n",
    "                    else:\n",
    "                        N = self._N\n",
    "                else:\n",
    "                    return NotImplemented\n",
    "            return self.__class__(N, ufunc(*scalars, **kwargs))\n",
    "        else:\n",
    "            return NotImplemented"
   ]
  },
  {
   "cell_type": "code",
   "execution_count": 8,
   "metadata": {},
   "outputs": [
    {
     "data": {
      "text/plain": [
       "DiagonalArray(N=5, value=3)"
      ]
     },
     "execution_count": 8,
     "metadata": {},
     "output_type": "execute_result"
    }
   ],
   "source": [
    "arr = DiagonalArray(5, 1)\n",
    "np.multiply(arr, 3)"
   ]
  },
  {
   "cell_type": "code",
   "execution_count": 9,
   "metadata": {},
   "outputs": [
    {
     "data": {
      "text/plain": [
       "DiagonalArray(N=5, value=4)"
      ]
     },
     "execution_count": 9,
     "metadata": {},
     "output_type": "execute_result"
    }
   ],
   "source": [
    "np.add(arr, 3)"
   ]
  },
  {
   "cell_type": "code",
   "execution_count": 10,
   "metadata": {},
   "outputs": [
    {
     "data": {
      "text/plain": [
       "DiagonalArray(N=5, value=0.8414709848078965)"
      ]
     },
     "execution_count": 10,
     "metadata": {},
     "output_type": "execute_result"
    }
   ],
   "source": [
    "np.sin(arr)"
   ]
  },
  {
   "cell_type": "code",
   "execution_count": 11,
   "metadata": {},
   "outputs": [
    {
     "ename": "TypeError",
     "evalue": "unsupported operand type(s) for +: 'DiagonalArray' and 'int'",
     "output_type": "error",
     "traceback": [
      "\u001b[1;31m---------------------------------------------------------------------------\u001b[0m",
      "\u001b[1;31mTypeError\u001b[0m                                 Traceback (most recent call last)",
      "\u001b[1;32me:\\AMotefaker\\ABC\\Jupyter Notebook\\009_NumPy_custom_array_containers.ipynb Cell 11\u001b[0m in \u001b[0;36m<cell line: 1>\u001b[1;34m()\u001b[0m\n\u001b[1;32m----> <a href='vscode-notebook-cell:/e%3A/AMotefaker/ABC/Jupyter%20Notebook/009_NumPy_custom_array_containers.ipynb#X13sZmlsZQ%3D%3D?line=0'>1</a>\u001b[0m arr \u001b[39m+\u001b[39;49m \u001b[39m3\u001b[39;49m\n",
      "\u001b[1;31mTypeError\u001b[0m: unsupported operand type(s) for +: 'DiagonalArray' and 'int'"
     ]
    }
   ],
   "source": [
    "arr + 3"
   ]
  },
  {
   "cell_type": "code",
   "execution_count": 12,
   "metadata": {},
   "outputs": [],
   "source": [
    "import numpy.lib.mixins\n",
    "class DiagonalArray(numpy.lib.mixins.NDArrayOperatorsMixin):\n",
    "    def __init__(self, N, value):\n",
    "        self._N = N\n",
    "        self._i = value\n",
    "    def __repr__(self):\n",
    "        return f\"{self.__class__.__name__}(N={self._N}, value={self._i})\"\n",
    "    def __array__(self, dtype=None):\n",
    "        return self._i * np.eye(self._N, dtype=dtype)\n",
    "    def __array_ufunc__(self, ufunc, method, *inputs, **kwargs):\n",
    "        if method == '__call__':\n",
    "            N = None\n",
    "            scalars = []\n",
    "            for input in inputs:\n",
    "                if isinstance(input, Number):\n",
    "                    scalars.append(input)\n",
    "                elif isinstance(input, self.__class__):\n",
    "                    scalars.append(input._i)\n",
    "                    if N is not None:\n",
    "                        if N != self._N:\n",
    "                            raise TypeError(\"inconsistent sizes\")\n",
    "                    else:\n",
    "                        N = self._N\n",
    "                else:\n",
    "                    return NotImplemented\n",
    "            return self.__class__(N, ufunc(*scalars, **kwargs))\n",
    "        else:\n",
    "            return NotImplemented"
   ]
  },
  {
   "cell_type": "code",
   "execution_count": 13,
   "metadata": {},
   "outputs": [
    {
     "data": {
      "text/plain": [
       "DiagonalArray(N=5, value=4)"
      ]
     },
     "execution_count": 13,
     "metadata": {},
     "output_type": "execute_result"
    }
   ],
   "source": [
    "arr = DiagonalArray(5, 1)\n",
    "arr + 3"
   ]
  },
  {
   "cell_type": "code",
   "execution_count": 14,
   "metadata": {},
   "outputs": [
    {
     "data": {
      "text/plain": [
       "DiagonalArray(N=5, value=True)"
      ]
     },
     "execution_count": 14,
     "metadata": {},
     "output_type": "execute_result"
    }
   ],
   "source": [
    "arr > 0"
   ]
  },
  {
   "cell_type": "code",
   "execution_count": 15,
   "metadata": {},
   "outputs": [],
   "source": [
    "HANDLED_FUNCTIONS = {}\n",
    "class DiagonalArray(numpy.lib.mixins.NDArrayOperatorsMixin):\n",
    "    def __init__(self, N, value):\n",
    "        self._N = N\n",
    "        self._i = value\n",
    "    def __repr__(self):\n",
    "        return f\"{self.__class__.__name__}(N={self._N}, value={self._i})\"\n",
    "    def __array__(self, dtype=None):\n",
    "        return self._i * np.eye(self._N, dtype=dtype)\n",
    "    def __array_ufunc__(self, ufunc, method, *inputs, **kwargs):\n",
    "        if method == '__call__':\n",
    "            N = None\n",
    "            scalars = []\n",
    "            for input in inputs:\n",
    "                # In this case we accept only scalar numbers or DiagonalArrays.\n",
    "                if isinstance(input, Number):\n",
    "                    scalars.append(input)\n",
    "                elif isinstance(input, self.__class__):\n",
    "                    scalars.append(input._i)\n",
    "                    if N is not None:\n",
    "                        if N != self._N:\n",
    "                            raise TypeError(\"inconsistent sizes\")\n",
    "                    else:\n",
    "                        N = self._N\n",
    "                else:\n",
    "                    return NotImplemented\n",
    "            return self.__class__(N, ufunc(*scalars, **kwargs))\n",
    "        else:\n",
    "            return NotImplemented\n",
    "    def __array_function__(self, func, types, args, kwargs):\n",
    "        if func not in HANDLED_FUNCTIONS:\n",
    "            return NotImplemented\n",
    "        # Note: this allows subclasses that don't override\n",
    "        # __array_function__ to handle DiagonalArray objects.\n",
    "        if not all(issubclass(t, self.__class__) for t in types):\n",
    "            return NotImplemented\n",
    "        return HANDLED_FUNCTIONS[func](*args, **kwargs)"
   ]
  },
  {
   "cell_type": "code",
   "execution_count": 16,
   "metadata": {},
   "outputs": [],
   "source": [
    "def implements(np_function):\n",
    "   \"Register an __array_function__ implementation for DiagonalArray objects.\"\n",
    "   def decorator(func):\n",
    "       HANDLED_FUNCTIONS[np_function] = func\n",
    "       return func\n",
    "   return decorator"
   ]
  },
  {
   "cell_type": "code",
   "execution_count": 17,
   "metadata": {},
   "outputs": [],
   "source": [
    "@implements(np.sum)\n",
    "def sum(arr):\n",
    "    \"Implementation of np.sum for DiagonalArray objects\"\n",
    "    return arr._i * arr._N"
   ]
  },
  {
   "cell_type": "code",
   "execution_count": 18,
   "metadata": {},
   "outputs": [
    {
     "data": {
      "text/plain": [
       "5"
      ]
     },
     "execution_count": 18,
     "metadata": {},
     "output_type": "execute_result"
    }
   ],
   "source": [
    "@implements(np.mean)\n",
    "def mean(arr):\n",
    "    \"Implementation of np.mean for DiagonalArray objects\"\n",
    "    return arr._i / arr._N\n",
    "arr = DiagonalArray(5, 1)\n",
    "np.sum(arr)"
   ]
  },
  {
   "cell_type": "code",
   "execution_count": 19,
   "metadata": {},
   "outputs": [
    {
     "data": {
      "text/plain": [
       "0.2"
      ]
     },
     "execution_count": 19,
     "metadata": {},
     "output_type": "execute_result"
    }
   ],
   "source": [
    "np.mean(arr)"
   ]
  },
  {
   "cell_type": "code",
   "execution_count": 20,
   "metadata": {},
   "outputs": [
    {
     "ename": "TypeError",
     "evalue": "no implementation found for 'numpy.concatenate' on types that implement __array_function__: [<class '__main__.DiagonalArray'>]",
     "output_type": "error",
     "traceback": [
      "\u001b[1;31m---------------------------------------------------------------------------\u001b[0m",
      "\u001b[1;31mTypeError\u001b[0m                                 Traceback (most recent call last)",
      "\u001b[1;32me:\\AMotefaker\\ABC\\Jupyter Notebook\\009_NumPy_custom_array_containers.ipynb Cell 20\u001b[0m in \u001b[0;36m<cell line: 1>\u001b[1;34m()\u001b[0m\n\u001b[1;32m----> <a href='vscode-notebook-cell:/e%3A/AMotefaker/ABC/Jupyter%20Notebook/009_NumPy_custom_array_containers.ipynb#X25sZmlsZQ%3D%3D?line=0'>1</a>\u001b[0m np\u001b[39m.\u001b[39;49mconcatenate([arr, arr])\n",
      "File \u001b[1;32m<__array_function__ internals>:180\u001b[0m, in \u001b[0;36mconcatenate\u001b[1;34m(*args, **kwargs)\u001b[0m\n",
      "\u001b[1;31mTypeError\u001b[0m: no implementation found for 'numpy.concatenate' on types that implement __array_function__: [<class '__main__.DiagonalArray'>]"
     ]
    }
   ],
   "source": [
    "np.concatenate([arr, arr])"
   ]
  },
  {
   "cell_type": "code",
   "execution_count": 21,
   "metadata": {},
   "outputs": [
    {
     "ename": "TypeError",
     "evalue": "sum() got an unexpected keyword argument 'axis'",
     "output_type": "error",
     "traceback": [
      "\u001b[1;31m---------------------------------------------------------------------------\u001b[0m",
      "\u001b[1;31mTypeError\u001b[0m                                 Traceback (most recent call last)",
      "\u001b[1;32me:\\AMotefaker\\ABC\\Jupyter Notebook\\009_NumPy_custom_array_containers.ipynb Cell 21\u001b[0m in \u001b[0;36m<cell line: 1>\u001b[1;34m()\u001b[0m\n\u001b[1;32m----> <a href='vscode-notebook-cell:/e%3A/AMotefaker/ABC/Jupyter%20Notebook/009_NumPy_custom_array_containers.ipynb#X26sZmlsZQ%3D%3D?line=0'>1</a>\u001b[0m np\u001b[39m.\u001b[39;49msum(arr, axis\u001b[39m=\u001b[39;49m\u001b[39m0\u001b[39;49m)\n",
      "File \u001b[1;32m<__array_function__ internals>:180\u001b[0m, in \u001b[0;36msum\u001b[1;34m(*args, **kwargs)\u001b[0m\n",
      "\u001b[1;32me:\\AMotefaker\\ABC\\Jupyter Notebook\\009_NumPy_custom_array_containers.ipynb Cell 21\u001b[0m in \u001b[0;36mDiagonalArray.__array_function__\u001b[1;34m(self, func, types, args, kwargs)\u001b[0m\n\u001b[0;32m     <a href='vscode-notebook-cell:/e%3A/AMotefaker/ABC/Jupyter%20Notebook/009_NumPy_custom_array_containers.ipynb#X26sZmlsZQ%3D%3D?line=34'>35</a>\u001b[0m \u001b[39mif\u001b[39;00m \u001b[39mnot\u001b[39;00m \u001b[39mall\u001b[39m(\u001b[39missubclass\u001b[39m(t, \u001b[39mself\u001b[39m\u001b[39m.\u001b[39m\u001b[39m__class__\u001b[39m) \u001b[39mfor\u001b[39;00m t \u001b[39min\u001b[39;00m types):\n\u001b[0;32m     <a href='vscode-notebook-cell:/e%3A/AMotefaker/ABC/Jupyter%20Notebook/009_NumPy_custom_array_containers.ipynb#X26sZmlsZQ%3D%3D?line=35'>36</a>\u001b[0m     \u001b[39mreturn\u001b[39;00m \u001b[39mNotImplemented\u001b[39m\n\u001b[1;32m---> <a href='vscode-notebook-cell:/e%3A/AMotefaker/ABC/Jupyter%20Notebook/009_NumPy_custom_array_containers.ipynb#X26sZmlsZQ%3D%3D?line=36'>37</a>\u001b[0m \u001b[39mreturn\u001b[39;00m HANDLED_FUNCTIONS[func](\u001b[39m*\u001b[39margs, \u001b[39m*\u001b[39m\u001b[39m*\u001b[39mkwargs)\n",
      "\u001b[1;31mTypeError\u001b[0m: sum() got an unexpected keyword argument 'axis'"
     ]
    }
   ],
   "source": [
    "np.sum(arr, axis=0)"
   ]
  },
  {
   "cell_type": "code",
   "execution_count": 22,
   "metadata": {},
   "outputs": [
    {
     "data": {
      "text/plain": [
       "array([[1., 0., 0., 0., 0.],\n",
       "       [0., 1., 0., 0., 0.],\n",
       "       [0., 0., 1., 0., 0.],\n",
       "       [0., 0., 0., 1., 0.],\n",
       "       [0., 0., 0., 0., 1.],\n",
       "       [1., 0., 0., 0., 0.],\n",
       "       [0., 1., 0., 0., 0.],\n",
       "       [0., 0., 1., 0., 0.],\n",
       "       [0., 0., 0., 1., 0.],\n",
       "       [0., 0., 0., 0., 1.]])"
      ]
     },
     "execution_count": 22,
     "metadata": {},
     "output_type": "execute_result"
    }
   ],
   "source": [
    "np.concatenate([np.asarray(arr), np.asarray(arr)])"
   ]
  }
 ],
 "metadata": {
  "kernelspec": {
   "display_name": "Python 3.10.5 64-bit",
   "language": "python",
   "name": "python3"
  },
  "language_info": {
   "codemirror_mode": {
    "name": "ipython",
    "version": 3
   },
   "file_extension": ".py",
   "mimetype": "text/x-python",
   "name": "python",
   "nbconvert_exporter": "python",
   "pygments_lexer": "ipython3",
   "version": "3.10.5"
  },
  "orig_nbformat": 4,
  "vscode": {
   "interpreter": {
    "hash": "4af9bfa72ac9a7f926449ca223df7d586ff262b3c1d474ca7c991f7c814e3272"
   }
  }
 },
 "nbformat": 4,
 "nbformat_minor": 2
}
