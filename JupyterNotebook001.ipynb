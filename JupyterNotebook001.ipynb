import numpy as np
np.random.seed(12345)
np.set_printoptions(precision=4, suppress=True)
