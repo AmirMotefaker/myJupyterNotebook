{
 "cells": [
  {
   "cell_type": "markdown",
   "metadata": {},
   "source": [
    "**Universal functions (ufunc) basics**"
   ]
  },
  {
   "cell_type": "code",
   "execution_count": 1,
   "metadata": {},
   "outputs": [],
   "source": [
    "import numpy as np"
   ]
  },
  {
   "cell_type": "code",
   "execution_count": 2,
   "metadata": {},
   "outputs": [
    {
     "data": {
      "text/plain": [
       "array([1, 3, 2, 6])"
      ]
     },
     "execution_count": 2,
     "metadata": {},
     "output_type": "execute_result"
    }
   ],
   "source": [
    "np.array([0,2,3,4]) + np.array([1,1,-1,2])"
   ]
  },
  {
   "cell_type": "markdown",
   "metadata": {},
   "source": [
    "Ufunc methods"
   ]
  },
  {
   "cell_type": "code",
   "execution_count": 3,
   "metadata": {},
   "outputs": [
    {
     "data": {
      "text/plain": [
       "array([[0, 1, 2],\n",
       "       [3, 4, 5],\n",
       "       [6, 7, 8]])"
      ]
     },
     "execution_count": 3,
     "metadata": {},
     "output_type": "execute_result"
    }
   ],
   "source": [
    "x = np.arange(9).reshape(3,3)\n",
    "x"
   ]
  },
  {
   "cell_type": "code",
   "execution_count": 4,
   "metadata": {},
   "outputs": [
    {
     "data": {
      "text/plain": [
       "array([ 3, 12, 21])"
      ]
     },
     "execution_count": 4,
     "metadata": {},
     "output_type": "execute_result"
    }
   ],
   "source": [
    "np.add.reduce(x, 1)"
   ]
  },
  {
   "cell_type": "code",
   "execution_count": 5,
   "metadata": {},
   "outputs": [
    {
     "data": {
      "text/plain": [
       "36"
      ]
     },
     "execution_count": 5,
     "metadata": {},
     "output_type": "execute_result"
    }
   ],
   "source": [
    "np.add.reduce(x, (0, 1))"
   ]
  },
  {
   "cell_type": "code",
   "execution_count": 6,
   "metadata": {},
   "outputs": [
    {
     "data": {
      "text/plain": [
       "dtype('int32')"
      ]
     },
     "execution_count": 6,
     "metadata": {},
     "output_type": "execute_result"
    }
   ],
   "source": [
    "x.dtype"
   ]
  },
  {
   "cell_type": "code",
   "execution_count": 7,
   "metadata": {},
   "outputs": [
    {
     "data": {
      "text/plain": [
       "array([ 0., 28., 80.])"
      ]
     },
     "execution_count": 7,
     "metadata": {},
     "output_type": "execute_result"
    }
   ],
   "source": [
    "np.multiply.reduce(x, dtype=float)"
   ]
  },
  {
   "cell_type": "code",
   "execution_count": 8,
   "metadata": {},
   "outputs": [
    {
     "data": {
      "text/plain": [
       "array([0, 0, 0])"
      ]
     },
     "execution_count": 8,
     "metadata": {},
     "output_type": "execute_result"
    }
   ],
   "source": [
    "y = np.zeros(3, dtype=int)\n",
    "y"
   ]
  },
  {
   "cell_type": "code",
   "execution_count": 9,
   "metadata": {},
   "outputs": [
    {
     "data": {
      "text/plain": [
       "array([ 0, 28, 80])"
      ]
     },
     "execution_count": 9,
     "metadata": {},
     "output_type": "execute_result"
    }
   ],
   "source": [
    "np.multiply.reduce(x, dtype=float, out=y)"
   ]
  },
  {
   "cell_type": "markdown",
   "metadata": {},
   "source": [
    "Type casting rules"
   ]
  },
  {
   "cell_type": "code",
   "execution_count": 10,
   "metadata": {},
   "outputs": [
    {
     "name": "stdout",
     "output_type": "stream",
     "text": [
      "X ? b h i l q p B H I L Q P e f d g F D G S U V O M m\n",
      "? Y Y Y Y Y Y Y Y Y Y Y Y Y Y Y Y Y Y Y Y Y Y Y Y - Y\n",
      "b - Y Y Y Y Y Y - - - - - - Y Y Y Y Y Y Y Y Y Y Y - Y\n",
      "h - - Y Y Y Y Y - - - - - - - Y Y Y Y Y Y Y Y Y Y - Y\n",
      "i - - - Y Y Y Y - - - - - - - - Y Y - Y Y Y Y Y Y - Y\n",
      "l - - - Y Y Y Y - - - - - - - - Y Y - Y Y Y Y Y Y - Y\n",
      "q - - - - - Y Y - - - - - - - - Y Y - Y Y Y Y Y Y - Y\n",
      "p - - - - - Y Y - - - - - - - - Y Y - Y Y Y Y Y Y - Y\n",
      "B - - Y Y Y Y Y Y Y Y Y Y Y Y Y Y Y Y Y Y Y Y Y Y - Y\n",
      "H - - - Y Y Y Y - Y Y Y Y Y - Y Y Y Y Y Y Y Y Y Y - Y\n",
      "I - - - - - Y Y - - Y Y Y Y - - Y Y - Y Y Y Y Y Y - Y\n",
      "L - - - - - Y Y - - Y Y Y Y - - Y Y - Y Y Y Y Y Y - Y\n",
      "Q - - - - - - - - - - - Y Y - - Y Y - Y Y Y Y Y Y - -\n",
      "P - - - - - - - - - - - Y Y - - Y Y - Y Y Y Y Y Y - -\n",
      "e - - - - - - - - - - - - - Y Y Y Y Y Y Y Y Y Y Y - -\n",
      "f - - - - - - - - - - - - - - Y Y Y Y Y Y Y Y Y Y - -\n",
      "d - - - - - - - - - - - - - - - Y Y - Y Y Y Y Y Y - -\n",
      "g - - - - - - - - - - - - - - - Y Y - Y Y Y Y Y Y - -\n",
      "F - - - - - - - - - - - - - - - - - Y Y Y Y Y Y Y - -\n",
      "D - - - - - - - - - - - - - - - - - - Y Y Y Y Y Y - -\n",
      "G - - - - - - - - - - - - - - - - - - Y Y Y Y Y Y - -\n",
      "S - - - - - - - - - - - - - - - - - - - - Y Y Y Y - -\n",
      "U - - - - - - - - - - - - - - - - - - - - - Y Y Y - -\n",
      "V - - - - - - - - - - - - - - - - - - - - - - Y Y - -\n",
      "O - - - - - - - - - - - - - - - - - - - - - - - Y - -\n",
      "M - - - - - - - - - - - - - - - - - - - - - - Y Y Y -\n",
      "m - - - - - - - - - - - - - - - - - - - - - - Y Y - Y\n"
     ]
    }
   ],
   "source": [
    "mark = {False: ' -', True: ' Y'}\n",
    "def print_table(ntypes):\n",
    "    print('X ' + ' '.join(ntypes))\n",
    "    for row in ntypes:\n",
    "        print(row, end='')\n",
    "        for col in ntypes:\n",
    "            print(mark[np.can_cast(row, col)], end='')\n",
    "        print()\n",
    "print_table(np.typecodes['All'])"
   ]
  }
 ],
 "metadata": {
  "kernelspec": {
   "display_name": "Python 3.10.5 64-bit",
   "language": "python",
   "name": "python3"
  },
  "language_info": {
   "codemirror_mode": {
    "name": "ipython",
    "version": 3
   },
   "file_extension": ".py",
   "mimetype": "text/x-python",
   "name": "python",
   "nbconvert_exporter": "python",
   "pygments_lexer": "ipython3",
   "version": "3.10.5"
  },
  "orig_nbformat": 4,
  "vscode": {
   "interpreter": {
    "hash": "4af9bfa72ac9a7f926449ca223df7d586ff262b3c1d474ca7c991f7c814e3272"
   }
  }
 },
 "nbformat": 4,
 "nbformat_minor": 2
}
