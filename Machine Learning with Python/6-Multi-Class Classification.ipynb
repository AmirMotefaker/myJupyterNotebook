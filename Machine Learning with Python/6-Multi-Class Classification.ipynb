{
 "cells": [
  {
   "cell_type": "markdown",
   "id": "a0d9a430",
   "metadata": {},
   "source": [
    "Multi-Class Classification"
   ]
  },
  {
   "cell_type": "code",
   "execution_count": 1,
   "id": "5a0d5787",
   "metadata": {},
   "outputs": [],
   "source": [
    "import numpy as np\n",
    "import matplotlib.pyplot as plt\n",
    "from sklearn import datasets\n",
    "from sklearn.svm import SVC\n",
    "from sklearn.linear_model import LogisticRegression\n",
    "from sklearn.metrics import accuracy_score\n",
    "import pandas as pd"
   ]
  },
  {
   "cell_type": "code",
   "execution_count": 2,
   "id": "293d28b1",
   "metadata": {},
   "outputs": [],
   "source": [
    "plot_colors = \"ryb\"\n",
    "plot_step = 0.02\n",
    "\n",
    "def decision_boundary (X,y,model,iris, two=None):\n",
    "    x_min, x_max = X[:, 0].min() - 1, X[:, 0].max() + 1\n",
    "    y_min, y_max = X[:, 1].min() - 1, X[:, 1].max() + 1\n",
    "    xx, yy = np.meshgrid(np.arange(x_min, x_max, plot_step),\n",
    "                         np.arange(y_min, y_max, plot_step))\n",
    "    plt.tight_layout(h_pad=0.5, w_pad=0.5, pad=2.5)\n",
    "    \n",
    "    Z = model.predict(np.c_[xx.ravel(), yy.ravel()])\n",
    "    Z = Z.reshape(xx.shape)\n",
    "    cs = plt.contourf(xx, yy, Z,cmap=plt.cm.RdYlBu)\n",
    "    \n",
    "    if two:\n",
    "        cs = plt.contourf(xx, yy, Z,cmap=plt.cm.RdYlBu)\n",
    "        for i, color in zip(np.unique(y), plot_colors):\n",
    "            \n",
    "            idx = np.where( y== i)\n",
    "            plt.scatter(X[idx, 0], X[idx, 1], label=y,cmap=plt.cm.RdYlBu, s=15)\n",
    "        plt.show()\n",
    "  \n",
    "    else:\n",
    "        set_={0,1,2}\n",
    "        print(set_)\n",
    "        for i, color in zip(range(3), plot_colors):\n",
    "            idx = np.where( y== i)\n",
    "            if np.any(idx):\n",
    "\n",
    "                set_.remove(i)\n",
    "\n",
    "                plt.scatter(X[idx, 0], X[idx, 1], label=y,cmap=plt.cm.RdYlBu, edgecolor='black', s=15)\n",
    "\n",
    "\n",
    "        for  i in set_:\n",
    "            idx = np.where( iris.target== i)\n",
    "            plt.scatter(X[idx, 0], X[idx, 1], marker='x',color='black')\n",
    "\n",
    "        plt.show()"
   ]
  }
 ],
 "metadata": {
  "kernelspec": {
   "display_name": "Python 3 (ipykernel)",
   "language": "python",
   "name": "python3"
  },
  "language_info": {
   "codemirror_mode": {
    "name": "ipython",
    "version": 3
   },
   "file_extension": ".py",
   "mimetype": "text/x-python",
   "name": "python",
   "nbconvert_exporter": "python",
   "pygments_lexer": "ipython3",
   "version": "3.9.12"
  }
 },
 "nbformat": 4,
 "nbformat_minor": 5
}
