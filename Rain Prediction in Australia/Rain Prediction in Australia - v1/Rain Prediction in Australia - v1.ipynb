{
 "cells": [
  {
   "cell_type": "markdown",
   "id": "a8efeb86",
   "metadata": {},
   "source": [
    "Rain Prediction in Australia - v1"
   ]
  },
  {
   "cell_type": "markdown",
   "id": "472c06f8",
   "metadata": {},
   "source": [
    "Data Source:\n",
    "Kaggle: https://www.kaggle.com/jsphyg/weather-dataset-rattle-package\n",
    "This dataset contains about 10 years of daily weather observations from many locations across Australia.\n",
    "Source:  http://www.bom.gov.au/climate/dwo/ and http://www.bom.gov.au/climate/data."
   ]
  },
  {
   "cell_type": "code",
   "execution_count": 1,
   "id": "60298d5f",
   "metadata": {},
   "outputs": [],
   "source": [
    "# Importing Libraries\n",
    "import pandas as pd\n",
    "import numpy as np\n",
    "import matplotlib.pyplot as plt\n",
    "import seaborn as sns\n",
    "%matplotlib inline"
   ]
  }
 ],
 "metadata": {
  "kernelspec": {
   "display_name": "Python 3 (ipykernel)",
   "language": "python",
   "name": "python3"
  },
  "language_info": {
   "codemirror_mode": {
    "name": "ipython",
    "version": 3
   },
   "file_extension": ".py",
   "mimetype": "text/x-python",
   "name": "python",
   "nbconvert_exporter": "python",
   "pygments_lexer": "ipython3",
   "version": "3.9.15"
  }
 },
 "nbformat": 4,
 "nbformat_minor": 5
}
