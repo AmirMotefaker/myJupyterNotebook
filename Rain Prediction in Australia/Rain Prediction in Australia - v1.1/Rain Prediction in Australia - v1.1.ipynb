{
 "cells": [
  {
   "cell_type": "markdown",
   "id": "9a29a898",
   "metadata": {},
   "source": [
    "Rain Prediction in Australia - v1.1"
   ]
  },
  {
   "cell_type": "markdown",
   "id": "2da630c9",
   "metadata": {},
   "source": [
    "### Introduction:\n",
    "#### Using a rain dataset in Australia, we build an efficient classification model that predicts the next day's rain.\n",
    "####  DataSet: https://www.kaggle.com/datasets/jsphyg/weather-dataset-rattle-package"
   ]
  },
  {
   "cell_type": "code",
   "execution_count": 1,
   "id": "94a88637",
   "metadata": {},
   "outputs": [],
   "source": [
    "# Import Libraries\n",
    "import pandas as pd\n",
    "import numpy as np\n",
    "import matplotlib.pyplot as plt\n",
    "import seaborn as sns\n",
    "import time\n",
    "import pickle\n",
    "%matplotlib inline"
   ]
  },
  {
   "cell_type": "code",
   "execution_count": 2,
   "id": "f9738226",
   "metadata": {},
   "outputs": [],
   "source": [
    "# Import warnings\n",
    "import warnings\n",
    "warnings.filterwarnings('ignore')"
   ]
  },
  {
   "cell_type": "code",
   "execution_count": 3,
   "id": "3e838c21",
   "metadata": {},
   "outputs": [],
   "source": [
    "pd.set_option(\"display.max_columns\",None)"
   ]
  }
 ],
 "metadata": {
  "kernelspec": {
   "display_name": "Python 3 (ipykernel)",
   "language": "python",
   "name": "python3"
  },
  "language_info": {
   "codemirror_mode": {
    "name": "ipython",
    "version": 3
   },
   "file_extension": ".py",
   "mimetype": "text/x-python",
   "name": "python",
   "nbconvert_exporter": "python",
   "pygments_lexer": "ipython3",
   "version": "3.9.15"
  }
 },
 "nbformat": 4,
 "nbformat_minor": 5
}
