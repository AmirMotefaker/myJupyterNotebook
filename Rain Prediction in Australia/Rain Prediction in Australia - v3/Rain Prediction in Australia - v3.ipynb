{
 "cells": [
  {
   "cell_type": "markdown",
   "id": "8ffefb89",
   "metadata": {},
   "source": [
    "Rain Prediction in Australia - v3"
   ]
  },
  {
   "cell_type": "markdown",
   "id": "03a80de6",
   "metadata": {},
   "source": [
    "### 1- Problem?"
   ]
  },
  {
   "cell_type": "markdown",
   "id": "e8b6a48a",
   "metadata": {},
   "source": [
    "I will try to answer the question of whether or not it will rain tomorrow in Australia. \n",
    "\n",
    "To answer the question, I build a classifier to predict whether or not it will rain tomorrow in Australia. \n",
    "I used a binary classification model using Logistic Regression.\n",
    "I have used the Rain in Australia dataset for this project.\n",
    "\n",
    "Implementation of Rain Prediction in Australia by Logistic Regression with Python and Scikit-Learn."
   ]
  },
  {
   "cell_type": "markdown",
   "id": "2478cc8f",
   "metadata": {},
   "source": [
    "### 2- Import libraries"
   ]
  },
  {
   "cell_type": "code",
   "execution_count": 1,
   "id": "dc0b57fa",
   "metadata": {},
   "outputs": [],
   "source": [
    "import numpy as np # linear algebra\n",
    "import pandas as pd # data processing, CSV file I/O (e.g. pd.read_csv)\n",
    "\n",
    "# import libraries for plotting\n",
    "import matplotlib.pyplot as plt\n",
    "import seaborn as sns\n",
    "%matplotlib inline"
   ]
  },
  {
   "cell_type": "code",
   "execution_count": 2,
   "id": "e8dea663",
   "metadata": {},
   "outputs": [],
   "source": [
    "import warnings\n",
    "\n",
    "warnings.filterwarnings('ignore')"
   ]
  },
  {
   "cell_type": "markdown",
   "id": "e6c89d0f",
   "metadata": {},
   "source": [
    "### 3- Import dataset"
   ]
  },
  {
   "cell_type": "code",
   "execution_count": 4,
   "id": "fedcf19a",
   "metadata": {},
   "outputs": [],
   "source": [
    "rain = 'E:/AMotefaker/ABC/Data Science/IBM Data Science Professional Certificate/9-Machine Learning with Python/Project/Rain Prediction in Australia - v1/weatherAUS.csv'\n",
    "\n",
    "df = pd.read_csv(rain)"
   ]
  },
  {
   "cell_type": "markdown",
   "id": "265bf648",
   "metadata": {},
   "source": [
    "### 4- Exploratory data analysis"
   ]
  },
  {
   "cell_type": "markdown",
   "id": "df8096e1",
   "metadata": {},
   "source": [
    "#### Dimensions of dataset"
   ]
  },
  {
   "cell_type": "code",
   "execution_count": 6,
   "id": "c67159c2",
   "metadata": {},
   "outputs": [
    {
     "data": {
      "text/plain": [
       "(145460, 23)"
      ]
     },
     "execution_count": 6,
     "metadata": {},
     "output_type": "execute_result"
    }
   ],
   "source": [
    "df.shape"
   ]
  },
  {
   "cell_type": "markdown",
   "id": "6215bfbe",
   "metadata": {},
   "source": [
    "We can see that there are 141454602193 instances and 23 variables in the data set."
   ]
  },
  {
   "cell_type": "markdown",
   "id": "06b18b9d",
   "metadata": {},
   "source": [
    "#### Preview the dataset "
   ]
  },
  {
   "cell_type": "code",
   "execution_count": 7,
   "id": "fc2acb2e",
   "metadata": {},
   "outputs": [
    {
     "data": {
      "text/html": [
       "<div>\n",
       "<style scoped>\n",
       "    .dataframe tbody tr th:only-of-type {\n",
       "        vertical-align: middle;\n",
       "    }\n",
       "\n",
       "    .dataframe tbody tr th {\n",
       "        vertical-align: top;\n",
       "    }\n",
       "\n",
       "    .dataframe thead th {\n",
       "        text-align: right;\n",
       "    }\n",
       "</style>\n",
       "<table border=\"1\" class=\"dataframe\">\n",
       "  <thead>\n",
       "    <tr style=\"text-align: right;\">\n",
       "      <th></th>\n",
       "      <th>Date</th>\n",
       "      <th>Location</th>\n",
       "      <th>MinTemp</th>\n",
       "      <th>MaxTemp</th>\n",
       "      <th>Rainfall</th>\n",
       "      <th>Evaporation</th>\n",
       "      <th>Sunshine</th>\n",
       "      <th>WindGustDir</th>\n",
       "      <th>WindGustSpeed</th>\n",
       "      <th>WindDir9am</th>\n",
       "      <th>...</th>\n",
       "      <th>Humidity9am</th>\n",
       "      <th>Humidity3pm</th>\n",
       "      <th>Pressure9am</th>\n",
       "      <th>Pressure3pm</th>\n",
       "      <th>Cloud9am</th>\n",
       "      <th>Cloud3pm</th>\n",
       "      <th>Temp9am</th>\n",
       "      <th>Temp3pm</th>\n",
       "      <th>RainToday</th>\n",
       "      <th>RainTomorrow</th>\n",
       "    </tr>\n",
       "  </thead>\n",
       "  <tbody>\n",
       "    <tr>\n",
       "      <th>0</th>\n",
       "      <td>2008-12-01</td>\n",
       "      <td>Albury</td>\n",
       "      <td>13.4</td>\n",
       "      <td>22.9</td>\n",
       "      <td>0.6</td>\n",
       "      <td>NaN</td>\n",
       "      <td>NaN</td>\n",
       "      <td>W</td>\n",
       "      <td>44.0</td>\n",
       "      <td>W</td>\n",
       "      <td>...</td>\n",
       "      <td>71.0</td>\n",
       "      <td>22.0</td>\n",
       "      <td>1007.7</td>\n",
       "      <td>1007.1</td>\n",
       "      <td>8.0</td>\n",
       "      <td>NaN</td>\n",
       "      <td>16.9</td>\n",
       "      <td>21.8</td>\n",
       "      <td>No</td>\n",
       "      <td>No</td>\n",
       "    </tr>\n",
       "    <tr>\n",
       "      <th>1</th>\n",
       "      <td>2008-12-02</td>\n",
       "      <td>Albury</td>\n",
       "      <td>7.4</td>\n",
       "      <td>25.1</td>\n",
       "      <td>0.0</td>\n",
       "      <td>NaN</td>\n",
       "      <td>NaN</td>\n",
       "      <td>WNW</td>\n",
       "      <td>44.0</td>\n",
       "      <td>NNW</td>\n",
       "      <td>...</td>\n",
       "      <td>44.0</td>\n",
       "      <td>25.0</td>\n",
       "      <td>1010.6</td>\n",
       "      <td>1007.8</td>\n",
       "      <td>NaN</td>\n",
       "      <td>NaN</td>\n",
       "      <td>17.2</td>\n",
       "      <td>24.3</td>\n",
       "      <td>No</td>\n",
       "      <td>No</td>\n",
       "    </tr>\n",
       "    <tr>\n",
       "      <th>2</th>\n",
       "      <td>2008-12-03</td>\n",
       "      <td>Albury</td>\n",
       "      <td>12.9</td>\n",
       "      <td>25.7</td>\n",
       "      <td>0.0</td>\n",
       "      <td>NaN</td>\n",
       "      <td>NaN</td>\n",
       "      <td>WSW</td>\n",
       "      <td>46.0</td>\n",
       "      <td>W</td>\n",
       "      <td>...</td>\n",
       "      <td>38.0</td>\n",
       "      <td>30.0</td>\n",
       "      <td>1007.6</td>\n",
       "      <td>1008.7</td>\n",
       "      <td>NaN</td>\n",
       "      <td>2.0</td>\n",
       "      <td>21.0</td>\n",
       "      <td>23.2</td>\n",
       "      <td>No</td>\n",
       "      <td>No</td>\n",
       "    </tr>\n",
       "    <tr>\n",
       "      <th>3</th>\n",
       "      <td>2008-12-04</td>\n",
       "      <td>Albury</td>\n",
       "      <td>9.2</td>\n",
       "      <td>28.0</td>\n",
       "      <td>0.0</td>\n",
       "      <td>NaN</td>\n",
       "      <td>NaN</td>\n",
       "      <td>NE</td>\n",
       "      <td>24.0</td>\n",
       "      <td>SE</td>\n",
       "      <td>...</td>\n",
       "      <td>45.0</td>\n",
       "      <td>16.0</td>\n",
       "      <td>1017.6</td>\n",
       "      <td>1012.8</td>\n",
       "      <td>NaN</td>\n",
       "      <td>NaN</td>\n",
       "      <td>18.1</td>\n",
       "      <td>26.5</td>\n",
       "      <td>No</td>\n",
       "      <td>No</td>\n",
       "    </tr>\n",
       "    <tr>\n",
       "      <th>4</th>\n",
       "      <td>2008-12-05</td>\n",
       "      <td>Albury</td>\n",
       "      <td>17.5</td>\n",
       "      <td>32.3</td>\n",
       "      <td>1.0</td>\n",
       "      <td>NaN</td>\n",
       "      <td>NaN</td>\n",
       "      <td>W</td>\n",
       "      <td>41.0</td>\n",
       "      <td>ENE</td>\n",
       "      <td>...</td>\n",
       "      <td>82.0</td>\n",
       "      <td>33.0</td>\n",
       "      <td>1010.8</td>\n",
       "      <td>1006.0</td>\n",
       "      <td>7.0</td>\n",
       "      <td>8.0</td>\n",
       "      <td>17.8</td>\n",
       "      <td>29.7</td>\n",
       "      <td>No</td>\n",
       "      <td>No</td>\n",
       "    </tr>\n",
       "  </tbody>\n",
       "</table>\n",
       "<p>5 rows × 23 columns</p>\n",
       "</div>"
      ],
      "text/plain": [
       "         Date Location  MinTemp  MaxTemp  Rainfall  Evaporation  Sunshine  \\\n",
       "0  2008-12-01   Albury     13.4     22.9       0.6          NaN       NaN   \n",
       "1  2008-12-02   Albury      7.4     25.1       0.0          NaN       NaN   \n",
       "2  2008-12-03   Albury     12.9     25.7       0.0          NaN       NaN   \n",
       "3  2008-12-04   Albury      9.2     28.0       0.0          NaN       NaN   \n",
       "4  2008-12-05   Albury     17.5     32.3       1.0          NaN       NaN   \n",
       "\n",
       "  WindGustDir  WindGustSpeed WindDir9am  ... Humidity9am  Humidity3pm  \\\n",
       "0           W           44.0          W  ...        71.0         22.0   \n",
       "1         WNW           44.0        NNW  ...        44.0         25.0   \n",
       "2         WSW           46.0          W  ...        38.0         30.0   \n",
       "3          NE           24.0         SE  ...        45.0         16.0   \n",
       "4           W           41.0        ENE  ...        82.0         33.0   \n",
       "\n",
       "   Pressure9am  Pressure3pm  Cloud9am  Cloud3pm  Temp9am  Temp3pm  RainToday  \\\n",
       "0       1007.7       1007.1       8.0       NaN     16.9     21.8         No   \n",
       "1       1010.6       1007.8       NaN       NaN     17.2     24.3         No   \n",
       "2       1007.6       1008.7       NaN       2.0     21.0     23.2         No   \n",
       "3       1017.6       1012.8       NaN       NaN     18.1     26.5         No   \n",
       "4       1010.8       1006.0       7.0       8.0     17.8     29.7         No   \n",
       "\n",
       "   RainTomorrow  \n",
       "0            No  \n",
       "1            No  \n",
       "2            No  \n",
       "3            No  \n",
       "4            No  \n",
       "\n",
       "[5 rows x 23 columns]"
      ]
     },
     "execution_count": 7,
     "metadata": {},
     "output_type": "execute_result"
    }
   ],
   "source": [
    "df.head()"
   ]
  },
  {
   "cell_type": "markdown",
   "id": "80d6c3b7",
   "metadata": {},
   "source": [
    "#### View column names"
   ]
  },
  {
   "cell_type": "code",
   "execution_count": 8,
   "id": "9dd2295e",
   "metadata": {},
   "outputs": [
    {
     "data": {
      "text/plain": [
       "Index(['Date', 'Location', 'MinTemp', 'MaxTemp', 'Rainfall', 'Evaporation',\n",
       "       'Sunshine', 'WindGustDir', 'WindGustSpeed', 'WindDir9am', 'WindDir3pm',\n",
       "       'WindSpeed9am', 'WindSpeed3pm', 'Humidity9am', 'Humidity3pm',\n",
       "       'Pressure9am', 'Pressure3pm', 'Cloud9am', 'Cloud3pm', 'Temp9am',\n",
       "       'Temp3pm', 'RainToday', 'RainTomorrow'],\n",
       "      dtype='object')"
      ]
     },
     "execution_count": 8,
     "metadata": {},
     "output_type": "execute_result"
    }
   ],
   "source": [
    "col_names = df.columns\n",
    "\n",
    "col_names"
   ]
  },
  {
   "cell_type": "markdown",
   "id": "1ffb1195",
   "metadata": {},
   "source": [
    "#### View summary of dataset "
   ]
  },
  {
   "cell_type": "code",
   "execution_count": 10,
   "id": "ac174f83",
   "metadata": {},
   "outputs": [
    {
     "name": "stdout",
     "output_type": "stream",
     "text": [
      "<class 'pandas.core.frame.DataFrame'>\n",
      "RangeIndex: 145460 entries, 0 to 145459\n",
      "Data columns (total 23 columns):\n",
      " #   Column         Non-Null Count   Dtype  \n",
      "---  ------         --------------   -----  \n",
      " 0   Date           145460 non-null  object \n",
      " 1   Location       145460 non-null  object \n",
      " 2   MinTemp        143975 non-null  float64\n",
      " 3   MaxTemp        144199 non-null  float64\n",
      " 4   Rainfall       142199 non-null  float64\n",
      " 5   Evaporation    82670 non-null   float64\n",
      " 6   Sunshine       75625 non-null   float64\n",
      " 7   WindGustDir    135134 non-null  object \n",
      " 8   WindGustSpeed  135197 non-null  float64\n",
      " 9   WindDir9am     134894 non-null  object \n",
      " 10  WindDir3pm     141232 non-null  object \n",
      " 11  WindSpeed9am   143693 non-null  float64\n",
      " 12  WindSpeed3pm   142398 non-null  float64\n",
      " 13  Humidity9am    142806 non-null  float64\n",
      " 14  Humidity3pm    140953 non-null  float64\n",
      " 15  Pressure9am    130395 non-null  float64\n",
      " 16  Pressure3pm    130432 non-null  float64\n",
      " 17  Cloud9am       89572 non-null   float64\n",
      " 18  Cloud3pm       86102 non-null   float64\n",
      " 19  Temp9am        143693 non-null  float64\n",
      " 20  Temp3pm        141851 non-null  float64\n",
      " 21  RainToday      142199 non-null  object \n",
      " 22  RainTomorrow   142193 non-null  object \n",
      "dtypes: float64(16), object(7)\n",
      "memory usage: 25.5+ MB\n"
     ]
    }
   ],
   "source": [
    "df.info()"
   ]
  },
  {
   "cell_type": "markdown",
   "id": "ab784b7b",
   "metadata": {},
   "source": [
    "##### Tips:\n",
    "\n",
    "We can see that the dataset contains a mixture of categorical and numerical variables.\n",
    "\n",
    "Categorical variables have data-type object.\n",
    "\n",
    "Numerical variables have data type float64.\n",
    "\n",
    "There are some missing values in the dataset. We will explore it later."
   ]
  },
  {
   "cell_type": "markdown",
   "id": "e04f3410",
   "metadata": {},
   "source": [
    "#### View statistical properties of dataset"
   ]
  },
  {
   "cell_type": "code",
   "execution_count": 11,
   "id": "aaf4f29f",
   "metadata": {},
   "outputs": [
    {
     "data": {
      "text/html": [
       "<div>\n",
       "<style scoped>\n",
       "    .dataframe tbody tr th:only-of-type {\n",
       "        vertical-align: middle;\n",
       "    }\n",
       "\n",
       "    .dataframe tbody tr th {\n",
       "        vertical-align: top;\n",
       "    }\n",
       "\n",
       "    .dataframe thead th {\n",
       "        text-align: right;\n",
       "    }\n",
       "</style>\n",
       "<table border=\"1\" class=\"dataframe\">\n",
       "  <thead>\n",
       "    <tr style=\"text-align: right;\">\n",
       "      <th></th>\n",
       "      <th>MinTemp</th>\n",
       "      <th>MaxTemp</th>\n",
       "      <th>Rainfall</th>\n",
       "      <th>Evaporation</th>\n",
       "      <th>Sunshine</th>\n",
       "      <th>WindGustSpeed</th>\n",
       "      <th>WindSpeed9am</th>\n",
       "      <th>WindSpeed3pm</th>\n",
       "      <th>Humidity9am</th>\n",
       "      <th>Humidity3pm</th>\n",
       "      <th>Pressure9am</th>\n",
       "      <th>Pressure3pm</th>\n",
       "      <th>Cloud9am</th>\n",
       "      <th>Cloud3pm</th>\n",
       "      <th>Temp9am</th>\n",
       "      <th>Temp3pm</th>\n",
       "    </tr>\n",
       "  </thead>\n",
       "  <tbody>\n",
       "    <tr>\n",
       "      <th>count</th>\n",
       "      <td>143975.000000</td>\n",
       "      <td>144199.000000</td>\n",
       "      <td>142199.000000</td>\n",
       "      <td>82670.000000</td>\n",
       "      <td>75625.000000</td>\n",
       "      <td>135197.000000</td>\n",
       "      <td>143693.000000</td>\n",
       "      <td>142398.000000</td>\n",
       "      <td>142806.000000</td>\n",
       "      <td>140953.000000</td>\n",
       "      <td>130395.00000</td>\n",
       "      <td>130432.000000</td>\n",
       "      <td>89572.000000</td>\n",
       "      <td>86102.000000</td>\n",
       "      <td>143693.000000</td>\n",
       "      <td>141851.00000</td>\n",
       "    </tr>\n",
       "    <tr>\n",
       "      <th>mean</th>\n",
       "      <td>12.194034</td>\n",
       "      <td>23.221348</td>\n",
       "      <td>2.360918</td>\n",
       "      <td>5.468232</td>\n",
       "      <td>7.611178</td>\n",
       "      <td>40.035230</td>\n",
       "      <td>14.043426</td>\n",
       "      <td>18.662657</td>\n",
       "      <td>68.880831</td>\n",
       "      <td>51.539116</td>\n",
       "      <td>1017.64994</td>\n",
       "      <td>1015.255889</td>\n",
       "      <td>4.447461</td>\n",
       "      <td>4.509930</td>\n",
       "      <td>16.990631</td>\n",
       "      <td>21.68339</td>\n",
       "    </tr>\n",
       "    <tr>\n",
       "      <th>std</th>\n",
       "      <td>6.398495</td>\n",
       "      <td>7.119049</td>\n",
       "      <td>8.478060</td>\n",
       "      <td>4.193704</td>\n",
       "      <td>3.785483</td>\n",
       "      <td>13.607062</td>\n",
       "      <td>8.915375</td>\n",
       "      <td>8.809800</td>\n",
       "      <td>19.029164</td>\n",
       "      <td>20.795902</td>\n",
       "      <td>7.10653</td>\n",
       "      <td>7.037414</td>\n",
       "      <td>2.887159</td>\n",
       "      <td>2.720357</td>\n",
       "      <td>6.488753</td>\n",
       "      <td>6.93665</td>\n",
       "    </tr>\n",
       "    <tr>\n",
       "      <th>min</th>\n",
       "      <td>-8.500000</td>\n",
       "      <td>-4.800000</td>\n",
       "      <td>0.000000</td>\n",
       "      <td>0.000000</td>\n",
       "      <td>0.000000</td>\n",
       "      <td>6.000000</td>\n",
       "      <td>0.000000</td>\n",
       "      <td>0.000000</td>\n",
       "      <td>0.000000</td>\n",
       "      <td>0.000000</td>\n",
       "      <td>980.50000</td>\n",
       "      <td>977.100000</td>\n",
       "      <td>0.000000</td>\n",
       "      <td>0.000000</td>\n",
       "      <td>-7.200000</td>\n",
       "      <td>-5.40000</td>\n",
       "    </tr>\n",
       "    <tr>\n",
       "      <th>25%</th>\n",
       "      <td>7.600000</td>\n",
       "      <td>17.900000</td>\n",
       "      <td>0.000000</td>\n",
       "      <td>2.600000</td>\n",
       "      <td>4.800000</td>\n",
       "      <td>31.000000</td>\n",
       "      <td>7.000000</td>\n",
       "      <td>13.000000</td>\n",
       "      <td>57.000000</td>\n",
       "      <td>37.000000</td>\n",
       "      <td>1012.90000</td>\n",
       "      <td>1010.400000</td>\n",
       "      <td>1.000000</td>\n",
       "      <td>2.000000</td>\n",
       "      <td>12.300000</td>\n",
       "      <td>16.60000</td>\n",
       "    </tr>\n",
       "    <tr>\n",
       "      <th>50%</th>\n",
       "      <td>12.000000</td>\n",
       "      <td>22.600000</td>\n",
       "      <td>0.000000</td>\n",
       "      <td>4.800000</td>\n",
       "      <td>8.400000</td>\n",
       "      <td>39.000000</td>\n",
       "      <td>13.000000</td>\n",
       "      <td>19.000000</td>\n",
       "      <td>70.000000</td>\n",
       "      <td>52.000000</td>\n",
       "      <td>1017.60000</td>\n",
       "      <td>1015.200000</td>\n",
       "      <td>5.000000</td>\n",
       "      <td>5.000000</td>\n",
       "      <td>16.700000</td>\n",
       "      <td>21.10000</td>\n",
       "    </tr>\n",
       "    <tr>\n",
       "      <th>75%</th>\n",
       "      <td>16.900000</td>\n",
       "      <td>28.200000</td>\n",
       "      <td>0.800000</td>\n",
       "      <td>7.400000</td>\n",
       "      <td>10.600000</td>\n",
       "      <td>48.000000</td>\n",
       "      <td>19.000000</td>\n",
       "      <td>24.000000</td>\n",
       "      <td>83.000000</td>\n",
       "      <td>66.000000</td>\n",
       "      <td>1022.40000</td>\n",
       "      <td>1020.000000</td>\n",
       "      <td>7.000000</td>\n",
       "      <td>7.000000</td>\n",
       "      <td>21.600000</td>\n",
       "      <td>26.40000</td>\n",
       "    </tr>\n",
       "    <tr>\n",
       "      <th>max</th>\n",
       "      <td>33.900000</td>\n",
       "      <td>48.100000</td>\n",
       "      <td>371.000000</td>\n",
       "      <td>145.000000</td>\n",
       "      <td>14.500000</td>\n",
       "      <td>135.000000</td>\n",
       "      <td>130.000000</td>\n",
       "      <td>87.000000</td>\n",
       "      <td>100.000000</td>\n",
       "      <td>100.000000</td>\n",
       "      <td>1041.00000</td>\n",
       "      <td>1039.600000</td>\n",
       "      <td>9.000000</td>\n",
       "      <td>9.000000</td>\n",
       "      <td>40.200000</td>\n",
       "      <td>46.70000</td>\n",
       "    </tr>\n",
       "  </tbody>\n",
       "</table>\n",
       "</div>"
      ],
      "text/plain": [
       "             MinTemp        MaxTemp       Rainfall   Evaporation  \\\n",
       "count  143975.000000  144199.000000  142199.000000  82670.000000   \n",
       "mean       12.194034      23.221348       2.360918      5.468232   \n",
       "std         6.398495       7.119049       8.478060      4.193704   \n",
       "min        -8.500000      -4.800000       0.000000      0.000000   \n",
       "25%         7.600000      17.900000       0.000000      2.600000   \n",
       "50%        12.000000      22.600000       0.000000      4.800000   \n",
       "75%        16.900000      28.200000       0.800000      7.400000   \n",
       "max        33.900000      48.100000     371.000000    145.000000   \n",
       "\n",
       "           Sunshine  WindGustSpeed   WindSpeed9am   WindSpeed3pm  \\\n",
       "count  75625.000000  135197.000000  143693.000000  142398.000000   \n",
       "mean       7.611178      40.035230      14.043426      18.662657   \n",
       "std        3.785483      13.607062       8.915375       8.809800   \n",
       "min        0.000000       6.000000       0.000000       0.000000   \n",
       "25%        4.800000      31.000000       7.000000      13.000000   \n",
       "50%        8.400000      39.000000      13.000000      19.000000   \n",
       "75%       10.600000      48.000000      19.000000      24.000000   \n",
       "max       14.500000     135.000000     130.000000      87.000000   \n",
       "\n",
       "         Humidity9am    Humidity3pm   Pressure9am    Pressure3pm  \\\n",
       "count  142806.000000  140953.000000  130395.00000  130432.000000   \n",
       "mean       68.880831      51.539116    1017.64994    1015.255889   \n",
       "std        19.029164      20.795902       7.10653       7.037414   \n",
       "min         0.000000       0.000000     980.50000     977.100000   \n",
       "25%        57.000000      37.000000    1012.90000    1010.400000   \n",
       "50%        70.000000      52.000000    1017.60000    1015.200000   \n",
       "75%        83.000000      66.000000    1022.40000    1020.000000   \n",
       "max       100.000000     100.000000    1041.00000    1039.600000   \n",
       "\n",
       "           Cloud9am      Cloud3pm        Temp9am       Temp3pm  \n",
       "count  89572.000000  86102.000000  143693.000000  141851.00000  \n",
       "mean       4.447461      4.509930      16.990631      21.68339  \n",
       "std        2.887159      2.720357       6.488753       6.93665  \n",
       "min        0.000000      0.000000      -7.200000      -5.40000  \n",
       "25%        1.000000      2.000000      12.300000      16.60000  \n",
       "50%        5.000000      5.000000      16.700000      21.10000  \n",
       "75%        7.000000      7.000000      21.600000      26.40000  \n",
       "max        9.000000      9.000000      40.200000      46.70000  "
      ]
     },
     "execution_count": 11,
     "metadata": {},
     "output_type": "execute_result"
    }
   ],
   "source": [
    "df.describe()"
   ]
  },
  {
   "cell_type": "markdown",
   "id": "ed36ce34",
   "metadata": {},
   "source": [
    "##### Important points:\n",
    "The above command df.describe() helps us to view the statistical properties of numerical variables. It excludes character variables.\n",
    "\n",
    "If we want to view the statistical properties of character variables, we should run the following command:\n",
    "\n",
    "     df.describe(include=['object'])\n",
    "\n",
    "If we want to view the statistical properties of all the variables, we should run the following command:\n",
    "\n",
    "     df.describe(include='all')"
   ]
  },
  {
   "cell_type": "markdown",
   "id": "12b9ee77",
   "metadata": {},
   "source": [
    "###  5- Univariate Analysis "
   ]
  },
  {
   "cell_type": "markdown",
   "id": "894a405a",
   "metadata": {},
   "source": [
    "#### Explore \"RainTomorrow\"  target variable"
   ]
  },
  {
   "cell_type": "markdown",
   "id": "b73e6060",
   "metadata": {},
   "source": [
    "##### Check for missing values"
   ]
  },
  {
   "cell_type": "code",
   "execution_count": 12,
   "id": "53e67852",
   "metadata": {},
   "outputs": [
    {
     "data": {
      "text/plain": [
       "3267"
      ]
     },
     "execution_count": 12,
     "metadata": {},
     "output_type": "execute_result"
    }
   ],
   "source": [
    "df['RainTomorrow'].isnull().sum()"
   ]
  },
  {
   "cell_type": "markdown",
   "id": "f48eeac4",
   "metadata": {},
   "source": [
    "We can see that there are 3267 missing values in the Rain Tomorrow target variable."
   ]
  },
  {
   "cell_type": "markdown",
   "id": "41740a12",
   "metadata": {},
   "source": [
    "##### View number of unique values"
   ]
  },
  {
   "cell_type": "code",
   "execution_count": 13,
   "id": "b110f66a",
   "metadata": {},
   "outputs": [
    {
     "data": {
      "text/plain": [
       "2"
      ]
     },
     "execution_count": 13,
     "metadata": {},
     "output_type": "execute_result"
    }
   ],
   "source": [
    "df['RainTomorrow'].nunique()"
   ]
  },
  {
   "cell_type": "markdown",
   "id": "05f2865c",
   "metadata": {},
   "source": [
    "We can see that the number of unique values in RainTomorrow variable is 2."
   ]
  },
  {
   "cell_type": "markdown",
   "id": "24801f95",
   "metadata": {},
   "source": [
    "##### View the unique values"
   ]
  },
  {
   "cell_type": "code",
   "execution_count": 14,
   "id": "32530bdf",
   "metadata": {},
   "outputs": [
    {
     "data": {
      "text/plain": [
       "array(['No', 'Yes', nan], dtype=object)"
      ]
     },
     "execution_count": 14,
     "metadata": {},
     "output_type": "execute_result"
    }
   ],
   "source": [
    "df['RainTomorrow'].unique()"
   ]
  },
  {
   "cell_type": "markdown",
   "id": "5ea9c080",
   "metadata": {},
   "source": [
    "The three unique values are No,Yes and nan."
   ]
  },
  {
   "cell_type": "markdown",
   "id": "c56140c5",
   "metadata": {},
   "source": [
    "##### View the frequency distribution of values"
   ]
  },
  {
   "cell_type": "code",
   "execution_count": 15,
   "id": "180e786c",
   "metadata": {},
   "outputs": [
    {
     "data": {
      "text/plain": [
       "No     110316\n",
       "Yes     31877\n",
       "Name: RainTomorrow, dtype: int64"
      ]
     },
     "execution_count": 15,
     "metadata": {},
     "output_type": "execute_result"
    }
   ],
   "source": [
    "df['RainTomorrow'].value_counts()"
   ]
  },
  {
   "cell_type": "markdown",
   "id": "b7a8b1a5",
   "metadata": {},
   "source": [
    "##### View percentage of frequency distribution of values"
   ]
  },
  {
   "cell_type": "code",
   "execution_count": 17,
   "id": "81ddf2b6",
   "metadata": {},
   "outputs": [
    {
     "data": {
      "text/plain": [
       "No     0.758394\n",
       "Yes    0.219146\n",
       "Name: RainTomorrow, dtype: float64"
      ]
     },
     "execution_count": 17,
     "metadata": {},
     "output_type": "execute_result"
    }
   ],
   "source": [
    "df['RainTomorrow'].value_counts()/len(df)"
   ]
  },
  {
   "cell_type": "markdown",
   "id": "f0e1e105",
   "metadata": {},
   "source": [
    "##### Tips:\n",
    "\n",
    "We can see that out of the total number of RainTomorrow values, No appears 75.84% times and Yes appears 21.91% times."
   ]
  },
  {
   "cell_type": "markdown",
   "id": "33d2cef8",
   "metadata": {},
   "source": [
    "##### Visualize frequency distribution of RainTomorrow variable"
   ]
  },
  {
   "cell_type": "code",
   "execution_count": 18,
   "id": "d0ce000d",
   "metadata": {},
   "outputs": [
    {
     "data": {
      "image/png": "[encoded data removed]",
      "text/plain": [
       "<Figure size 600x800 with 1 Axes>"
      ]
     },
     "metadata": {},
     "output_type": "display_data"
    }
   ],
   "source": [
    "f, ax = plt.subplots(figsize=(6, 8))\n",
    "ax = sns.countplot(x=\"RainTomorrow\", data=df, palette=\"Set1\")\n",
    "plt.show()"
   ]
  },
  {
   "cell_type": "markdown",
   "id": "61d5adba",
   "metadata": {},
   "source": [
    "##### Tips:\n",
    "    The above univariate plot confirms our findings that:\n",
    "        The No variable have 110316 entries\n",
    "        The Yes variable have 31877 entries."
   ]
  },
  {
   "cell_type": "markdown",
   "id": "2a9aef16",
   "metadata": {},
   "source": [
    "##### Plot the bars horizontally"
   ]
  },
  {
   "cell_type": "code",
   "execution_count": 19,
   "id": "58d29ad5",
   "metadata": {},
   "outputs": [
    {
     "data": {
      "image/png": "[encoded data removed]",
      "text/plain": [
       "<Figure size 800x400 with 1 Axes>"
      ]
     },
     "metadata": {},
     "output_type": "display_data"
    }
   ],
   "source": [
    "f, ax = plt.subplots(figsize=(8, 4))\n",
    "ax = sns.countplot(y=\"RainTomorrow\", data=df, palette=\"Set1\")\n",
    "plt.show()"
   ]
  },
  {
   "cell_type": "markdown",
   "id": "ecec6010",
   "metadata": {},
   "source": [
    "##### Findings of Univariate Analysis:\n",
    "    The number of missing values in RainTomorrow variable is 3267.\n",
    "    The number of unique values in RainTomorrow variable is 2.\n",
    "    The three unique values are No,Yes and nan.\n",
    "    The total number of RainTomorrow values, No appears 75.84% times and Yes appears 21.91% times.\n",
    "    The univariate plot confirms our findings that:\n",
    "        The No variable have 110316 entries\n",
    "        The Yes variable have 31877 entries    "
   ]
  },
  {
   "cell_type": "markdown",
   "id": "f0e4f785",
   "metadata": {},
   "source": [
    "### 6- Bivariate Analysis "
   ]
  },
  {
   "cell_type": "markdown",
   "id": "6aa72db1",
   "metadata": {},
   "source": [
    "###### Types of variables:\n",
    "    I segregate the dataset into categorical and numerical variables. \n",
    "    There is a mixture of categorical and numerical variables in the dataset.\n",
    "\n",
    "    Categorical variables have a data-type object.\n",
    "    Numerical variables have data type float64."
   ]
  },
  {
   "cell_type": "markdown",
   "id": "144e87bc",
   "metadata": {},
   "source": [
    "##### Explore Categorical Variables "
   ]
  },
  {
   "cell_type": "code",
   "execution_count": 20,
   "id": "93c7dcc9",
   "metadata": {},
   "outputs": [
    {
     "name": "stdout",
     "output_type": "stream",
     "text": [
      "There are 7 categorical variables\n",
      "\n",
      "The categorical variables are : ['Date', 'Location', 'WindGustDir', 'WindDir9am', 'WindDir3pm', 'RainToday', 'RainTomorrow']\n"
     ]
    }
   ],
   "source": [
    "# find categorical variables\n",
    "\n",
    "categorical = [var for var in df.columns if df[var].dtype=='O']\n",
    "\n",
    "print('There are {} categorical variables\\n'.format(len(categorical)))\n",
    "\n",
    "print('The categorical variables are :', categorical)"
   ]
  },
  {
   "cell_type": "code",
   "execution_count": 21,
   "id": "a5723d8f",
   "metadata": {},
   "outputs": [
    {
     "data": {
      "text/html": [
       "<div>\n",
       "<style scoped>\n",
       "    .dataframe tbody tr th:only-of-type {\n",
       "        vertical-align: middle;\n",
       "    }\n",
       "\n",
       "    .dataframe tbody tr th {\n",
       "        vertical-align: top;\n",
       "    }\n",
       "\n",
       "    .dataframe thead th {\n",
       "        text-align: right;\n",
       "    }\n",
       "</style>\n",
       "<table border=\"1\" class=\"dataframe\">\n",
       "  <thead>\n",
       "    <tr style=\"text-align: right;\">\n",
       "      <th></th>\n",
       "      <th>Date</th>\n",
       "      <th>Location</th>\n",
       "      <th>WindGustDir</th>\n",
       "      <th>WindDir9am</th>\n",
       "      <th>WindDir3pm</th>\n",
       "      <th>RainToday</th>\n",
       "      <th>RainTomorrow</th>\n",
       "    </tr>\n",
       "  </thead>\n",
       "  <tbody>\n",
       "    <tr>\n",
       "      <th>0</th>\n",
       "      <td>2008-12-01</td>\n",
       "      <td>Albury</td>\n",
       "      <td>W</td>\n",
       "      <td>W</td>\n",
       "      <td>WNW</td>\n",
       "      <td>No</td>\n",
       "      <td>No</td>\n",
       "    </tr>\n",
       "    <tr>\n",
       "      <th>1</th>\n",
       "      <td>2008-12-02</td>\n",
       "      <td>Albury</td>\n",
       "      <td>WNW</td>\n",
       "      <td>NNW</td>\n",
       "      <td>WSW</td>\n",
       "      <td>No</td>\n",
       "      <td>No</td>\n",
       "    </tr>\n",
       "    <tr>\n",
       "      <th>2</th>\n",
       "      <td>2008-12-03</td>\n",
       "      <td>Albury</td>\n",
       "      <td>WSW</td>\n",
       "      <td>W</td>\n",
       "      <td>WSW</td>\n",
       "      <td>No</td>\n",
       "      <td>No</td>\n",
       "    </tr>\n",
       "    <tr>\n",
       "      <th>3</th>\n",
       "      <td>2008-12-04</td>\n",
       "      <td>Albury</td>\n",
       "      <td>NE</td>\n",
       "      <td>SE</td>\n",
       "      <td>E</td>\n",
       "      <td>No</td>\n",
       "      <td>No</td>\n",
       "    </tr>\n",
       "    <tr>\n",
       "      <th>4</th>\n",
       "      <td>2008-12-05</td>\n",
       "      <td>Albury</td>\n",
       "      <td>W</td>\n",
       "      <td>ENE</td>\n",
       "      <td>NW</td>\n",
       "      <td>No</td>\n",
       "      <td>No</td>\n",
       "    </tr>\n",
       "  </tbody>\n",
       "</table>\n",
       "</div>"
      ],
      "text/plain": [
       "         Date Location WindGustDir WindDir9am WindDir3pm RainToday  \\\n",
       "0  2008-12-01   Albury           W          W        WNW        No   \n",
       "1  2008-12-02   Albury         WNW        NNW        WSW        No   \n",
       "2  2008-12-03   Albury         WSW          W        WSW        No   \n",
       "3  2008-12-04   Albury          NE         SE          E        No   \n",
       "4  2008-12-05   Albury           W        ENE         NW        No   \n",
       "\n",
       "  RainTomorrow  \n",
       "0           No  \n",
       "1           No  \n",
       "2           No  \n",
       "3           No  \n",
       "4           No  "
      ]
     },
     "execution_count": 21,
     "metadata": {},
     "output_type": "execute_result"
    }
   ],
   "source": [
    " # view the categorical variables\n",
    "\n",
    "df[categorical].head()"
   ]
  },
  {
   "cell_type": "markdown",
   "id": "afaa3980",
   "metadata": {},
   "source": [
    "##### Summary of categorical variables:\n",
    "    - There is a date variable. It is denoted by Date column.\n",
    "    - There are 6 categorical variables. These are given by Location, WindGustDir, WindDir9am, WindDir3pm, RainToday and    RainTomorrow.\n",
    "    - There are two binary categorical variables - RainToday and RainTomorrow.\n",
    "    - RainTomorrow is the target variable."
   ]
  },
  {
   "cell_type": "markdown",
   "id": "1eb512c5",
   "metadata": {},
   "source": [
    "#### Explore problems within categorical variables "
   ]
  },
  {
   "cell_type": "markdown",
   "id": "c1fbce0a",
   "metadata": {},
   "source": [
    "##### Missing values in categorical variables"
   ]
  },
  {
   "cell_type": "code",
   "execution_count": 22,
   "id": "888cabb6",
   "metadata": {},
   "outputs": [
    {
     "data": {
      "text/plain": [
       "Date                0\n",
       "Location            0\n",
       "WindGustDir     10326\n",
       "WindDir9am      10566\n",
       "WindDir3pm       4228\n",
       "RainToday        3261\n",
       "RainTomorrow     3267\n",
       "dtype: int64"
      ]
     },
     "execution_count": 22,
     "metadata": {},
     "output_type": "execute_result"
    }
   ],
   "source": [
    "# check missing values in categorical variables\n",
    "\n",
    "df[categorical].isnull().sum()"
   ]
  },
  {
   "cell_type": "code",
   "execution_count": 23,
   "id": "2ee43f29",
   "metadata": {},
   "outputs": [
    {
     "name": "stdout",
     "output_type": "stream",
     "text": [
      "WindGustDir     10326\n",
      "WindDir9am      10566\n",
      "WindDir3pm       4228\n",
      "RainToday        3261\n",
      "RainTomorrow     3267\n",
      "dtype: int64\n"
     ]
    }
   ],
   "source": [
    "# print categorical variables containing missing values\n",
    "\n",
    "cat1 = [var for var in categorical if df[var].isnull().sum()!=0]\n",
    "\n",
    "print(df[cat1].isnull().sum())"
   ]
  },
  {
   "cell_type": "markdown",
   "id": "1773d21f",
   "metadata": {},
   "source": [
    "We can see that there are only 5 categorical variables in the dataset which contains missing values. These are WindGustDir, WindDir9am, WindDir3pm, RainToday and RainTomorrow."
   ]
  },
  {
   "cell_type": "markdown",
   "id": "5c3e8b38",
   "metadata": {},
   "source": [
    "##### Frequency count of categorical variables"
   ]
  },
  {
   "cell_type": "code",
   "execution_count": 24,
   "id": "44d50666",
   "metadata": {},
   "outputs": [
    {
     "name": "stdout",
     "output_type": "stream",
     "text": [
      "2013-11-12    49\n",
      "2014-09-01    49\n",
      "2014-08-23    49\n",
      "2014-08-24    49\n",
      "2014-08-25    49\n",
      "              ..\n",
      "2007-11-29     1\n",
      "2007-11-28     1\n",
      "2007-11-27     1\n",
      "2007-11-26     1\n",
      "2008-01-31     1\n",
      "Name: Date, Length: 3436, dtype: int64\n",
      "Canberra            3436\n",
      "Sydney              3344\n",
      "Darwin              3193\n",
      "Melbourne           3193\n",
      "Brisbane            3193\n",
      "Adelaide            3193\n",
      "Perth               3193\n",
      "Hobart              3193\n",
      "Albany              3040\n",
      "MountGambier        3040\n",
      "Ballarat            3040\n",
      "Townsville          3040\n",
      "GoldCoast           3040\n",
      "Cairns              3040\n",
      "Launceston          3040\n",
      "AliceSprings        3040\n",
      "Bendigo             3040\n",
      "Albury              3040\n",
      "MountGinini         3040\n",
      "Wollongong          3040\n",
      "Newcastle           3039\n",
      "Tuggeranong         3039\n",
      "Penrith             3039\n",
      "Woomera             3009\n",
      "Nuriootpa           3009\n",
      "Cobar               3009\n",
      "CoffsHarbour        3009\n",
      "Moree               3009\n",
      "Sale                3009\n",
      "PerthAirport        3009\n",
      "PearceRAAF          3009\n",
      "Witchcliffe         3009\n",
      "BadgerysCreek       3009\n",
      "Mildura             3009\n",
      "NorfolkIsland       3009\n",
      "MelbourneAirport    3009\n",
      "Richmond            3009\n",
      "SydneyAirport       3009\n",
      "WaggaWagga          3009\n",
      "Williamtown         3009\n",
      "Dartmoor            3009\n",
      "Watsonia            3009\n",
      "Portland            3009\n",
      "Walpole             3006\n",
      "NorahHead           3004\n",
      "SalmonGums          3001\n",
      "Katherine           1578\n",
      "Nhil                1578\n",
      "Uluru               1578\n",
      "Name: Location, dtype: int64\n",
      "W      9915\n",
      "SE     9418\n",
      "N      9313\n",
      "SSE    9216\n",
      "E      9181\n",
      "S      9168\n",
      "WSW    9069\n",
      "SW     8967\n",
      "SSW    8736\n",
      "WNW    8252\n",
      "NW     8122\n",
      "ENE    8104\n",
      "ESE    7372\n",
      "NE     7133\n",
      "NNW    6620\n",
      "NNE    6548\n",
      "Name: WindGustDir, dtype: int64\n",
      "N      11758\n",
      "SE      9287\n",
      "E       9176\n",
      "SSE     9112\n",
      "NW      8749\n",
      "S       8659\n",
      "W       8459\n",
      "SW      8423\n",
      "NNE     8129\n",
      "NNW     7980\n",
      "ENE     7836\n",
      "NE      7671\n",
      "ESE     7630\n",
      "SSW     7587\n",
      "WNW     7414\n",
      "WSW     7024\n",
      "Name: WindDir9am, dtype: int64\n",
      "SE     10838\n",
      "W      10110\n",
      "S       9926\n",
      "WSW     9518\n",
      "SSE     9399\n",
      "SW      9354\n",
      "N       8890\n",
      "WNW     8874\n",
      "NW      8610\n",
      "ESE     8505\n",
      "E       8472\n",
      "NE      8263\n",
      "SSW     8156\n",
      "NNW     7870\n",
      "ENE     7857\n",
      "NNE     6590\n",
      "Name: WindDir3pm, dtype: int64\n",
      "No     110319\n",
      "Yes     31880\n",
      "Name: RainToday, dtype: int64\n",
      "No     110316\n",
      "Yes     31877\n",
      "Name: RainTomorrow, dtype: int64\n"
     ]
    }
   ],
   "source": [
    "# view frequency of categorical variables\n",
    "\n",
    "for var in categorical: \n",
    "    \n",
    "    print(df[var].value_counts())"
   ]
  },
  {
   "cell_type": "code",
   "execution_count": 25,
   "id": "4ba7980d",
   "metadata": {},
   "outputs": [
    {
     "name": "stdout",
     "output_type": "stream",
     "text": [
      "2013-11-12    0.000337\n",
      "2014-09-01    0.000337\n",
      "2014-08-23    0.000337\n",
      "2014-08-24    0.000337\n",
      "2014-08-25    0.000337\n",
      "                ...   \n",
      "2007-11-29    0.000007\n",
      "2007-11-28    0.000007\n",
      "2007-11-27    0.000007\n",
      "2007-11-26    0.000007\n",
      "2008-01-31    0.000007\n",
      "Name: Date, Length: 3436, dtype: float64\n",
      "Canberra            0.023622\n",
      "Sydney              0.022989\n",
      "Darwin              0.021951\n",
      "Melbourne           0.021951\n",
      "Brisbane            0.021951\n",
      "Adelaide            0.021951\n",
      "Perth               0.021951\n",
      "Hobart              0.021951\n",
      "Albany              0.020899\n",
      "MountGambier        0.020899\n",
      "Ballarat            0.020899\n",
      "Townsville          0.020899\n",
      "GoldCoast           0.020899\n",
      "Cairns              0.020899\n",
      "Launceston          0.020899\n",
      "AliceSprings        0.020899\n",
      "Bendigo             0.020899\n",
      "Albury              0.020899\n",
      "MountGinini         0.020899\n",
      "Wollongong          0.020899\n",
      "Newcastle           0.020892\n",
      "Tuggeranong         0.020892\n",
      "Penrith             0.020892\n",
      "Woomera             0.020686\n",
      "Nuriootpa           0.020686\n",
      "Cobar               0.020686\n",
      "CoffsHarbour        0.020686\n",
      "Moree               0.020686\n",
      "Sale                0.020686\n",
      "PerthAirport        0.020686\n",
      "PearceRAAF          0.020686\n",
      "Witchcliffe         0.020686\n",
      "BadgerysCreek       0.020686\n",
      "Mildura             0.020686\n",
      "NorfolkIsland       0.020686\n",
      "MelbourneAirport    0.020686\n",
      "Richmond            0.020686\n",
      "SydneyAirport       0.020686\n",
      "WaggaWagga          0.020686\n",
      "Williamtown         0.020686\n",
      "Dartmoor            0.020686\n",
      "Watsonia            0.020686\n",
      "Portland            0.020686\n",
      "Walpole             0.020665\n",
      "NorahHead           0.020652\n",
      "SalmonGums          0.020631\n",
      "Katherine           0.010848\n",
      "Nhil                0.010848\n",
      "Uluru               0.010848\n",
      "Name: Location, dtype: float64\n",
      "W      0.068163\n",
      "SE     0.064746\n",
      "N      0.064024\n",
      "SSE    0.063358\n",
      "E      0.063117\n",
      "S      0.063028\n",
      "WSW    0.062347\n",
      "SW     0.061646\n",
      "SSW    0.060058\n",
      "WNW    0.056730\n",
      "NW     0.055837\n",
      "ENE    0.055713\n",
      "ESE    0.050681\n",
      "NE     0.049038\n",
      "NNW    0.045511\n",
      "NNE    0.045016\n",
      "Name: WindGustDir, dtype: float64\n",
      "N      0.080833\n",
      "SE     0.063846\n",
      "E      0.063083\n",
      "SSE    0.062643\n",
      "NW     0.060147\n",
      "S      0.059528\n",
      "W      0.058153\n",
      "SW     0.057906\n",
      "NNE    0.055885\n",
      "NNW    0.054860\n",
      "ENE    0.053870\n",
      "NE     0.052736\n",
      "ESE    0.052454\n",
      "SSW    0.052159\n",
      "WNW    0.050969\n",
      "WSW    0.048288\n",
      "Name: WindDir9am, dtype: float64\n",
      "SE     0.074508\n",
      "W      0.069504\n",
      "S      0.068239\n",
      "WSW    0.065434\n",
      "SSE    0.064616\n",
      "SW     0.064306\n",
      "N      0.061116\n",
      "WNW    0.061006\n",
      "NW     0.059192\n",
      "ESE    0.058470\n",
      "E      0.058243\n",
      "NE     0.056806\n",
      "SSW    0.056070\n",
      "NNW    0.054104\n",
      "ENE    0.054015\n",
      "NNE    0.045305\n",
      "Name: WindDir3pm, dtype: float64\n",
      "No     0.758415\n",
      "Yes    0.219167\n",
      "Name: RainToday, dtype: float64\n",
      "No     0.758394\n",
      "Yes    0.219146\n",
      "Name: RainTomorrow, dtype: float64\n"
     ]
    }
   ],
   "source": [
    "# view frequency distribution of categorical variables\n",
    "\n",
    "for var in categorical: \n",
    "    \n",
    "    print(df[var].value_counts()/np.float(len(df)))"
   ]
  },
  {
   "cell_type": "markdown",
   "id": "d28df06c",
   "metadata": {},
   "source": [
    "##### Number of labels: Cardinality\n",
    "- The number of labels within a categorical variable is known as cardinality.\n",
    "- A high number of labels within a variable is known as high cardinality. \n",
    "- High cardinality may pose some serious problems in the machine learning model. \n",
    "- So, I will checked for high cardinality."
   ]
  },
  {
   "cell_type": "code",
   "execution_count": 26,
   "id": "6e7fc8ab",
   "metadata": {},
   "outputs": [
    {
     "name": "stdout",
     "output_type": "stream",
     "text": [
      "Date  contains  3436  labels\n",
      "Location  contains  49  labels\n",
      "WindGustDir  contains  17  labels\n",
      "WindDir9am  contains  17  labels\n",
      "WindDir3pm  contains  17  labels\n",
      "RainToday  contains  3  labels\n",
      "RainTomorrow  contains  3  labels\n"
     ]
    }
   ],
   "source": [
    "# check for cardinality in categorical variables\n",
    "\n",
    "for var in categorical:\n",
    "    \n",
    "    print(var, ' contains ', len(df[var].unique()), ' labels')"
   ]
  },
  {
   "cell_type": "markdown",
   "id": "ebcd5692",
   "metadata": {},
   "source": [
    "We can see that there is a Date variable which contains  3436  labels, which needs to be preprocessed. \n",
    "All the other variables contain relatively smaller number of variables."
   ]
  },
  {
   "cell_type": "markdown",
   "id": "83c8d4a4",
   "metadata": {},
   "source": [
    "#### Feature Engineering of Date Variable"
   ]
  },
  {
   "cell_type": "code",
   "execution_count": 27,
   "id": "678f8f7f",
   "metadata": {},
   "outputs": [
    {
     "data": {
      "text/plain": [
       "dtype('O')"
      ]
     },
     "execution_count": 27,
     "metadata": {},
     "output_type": "execute_result"
    }
   ],
   "source": [
    "df['Date'].dtypes"
   ]
  },
  {
   "cell_type": "markdown",
   "id": "764c2ad7",
   "metadata": {},
   "source": [
    "We can see that the data type of the Date variable is an object. I will parse the date currently coded as an object into DateTime format."
   ]
  },
  {
   "cell_type": "code",
   "execution_count": 28,
   "id": "682a7078",
   "metadata": {},
   "outputs": [],
   "source": [
    "# parse the dates, currently coded as strings, into datetime format\n",
    "\n",
    "df['Date'] = pd.to_datetime(df['Date'])"
   ]
  },
  {
   "cell_type": "code",
   "execution_count": 29,
   "id": "d2abb8a8",
   "metadata": {},
   "outputs": [
    {
     "data": {
      "text/plain": [
       "0    2008\n",
       "1    2008\n",
       "2    2008\n",
       "3    2008\n",
       "4    2008\n",
       "Name: Year, dtype: int64"
      ]
     },
     "execution_count": 29,
     "metadata": {},
     "output_type": "execute_result"
    }
   ],
   "source": [
    "# extract year from date\n",
    "\n",
    "df['Year'] = df['Date'].dt.year\n",
    "\n",
    "df['Year'].head()"
   ]
  },
  {
   "cell_type": "code",
   "execution_count": 30,
   "id": "a67a116e",
   "metadata": {},
   "outputs": [
    {
     "data": {
      "text/plain": [
       "0    12\n",
       "1    12\n",
       "2    12\n",
       "3    12\n",
       "4    12\n",
       "Name: Month, dtype: int64"
      ]
     },
     "execution_count": 30,
     "metadata": {},
     "output_type": "execute_result"
    }
   ],
   "source": [
    "# extract month from date\n",
    "\n",
    "df['Month'] = df['Date'].dt.month\n",
    "\n",
    "df['Month'].head()"
   ]
  },
  {
   "cell_type": "code",
   "execution_count": 31,
   "id": "ba3042a1",
   "metadata": {},
   "outputs": [
    {
     "data": {
      "text/plain": [
       "0    1\n",
       "1    2\n",
       "2    3\n",
       "3    4\n",
       "4    5\n",
       "Name: Day, dtype: int64"
      ]
     },
     "execution_count": 31,
     "metadata": {},
     "output_type": "execute_result"
    }
   ],
   "source": [
    "# extract day from date\n",
    "\n",
    "df['Day'] = df['Date'].dt.day\n",
    "\n",
    "df['Day'].head()"
   ]
  },
  {
   "cell_type": "code",
   "execution_count": 32,
   "id": "415aab4d",
   "metadata": {},
   "outputs": [
    {
     "name": "stdout",
     "output_type": "stream",
     "text": [
      "<class 'pandas.core.frame.DataFrame'>\n",
      "RangeIndex: 145460 entries, 0 to 145459\n",
      "Data columns (total 26 columns):\n",
      " #   Column         Non-Null Count   Dtype         \n",
      "---  ------         --------------   -----         \n",
      " 0   Date           145460 non-null  datetime64[ns]\n",
      " 1   Location       145460 non-null  object        \n",
      " 2   MinTemp        143975 non-null  float64       \n",
      " 3   MaxTemp        144199 non-null  float64       \n",
      " 4   Rainfall       142199 non-null  float64       \n",
      " 5   Evaporation    82670 non-null   float64       \n",
      " 6   Sunshine       75625 non-null   float64       \n",
      " 7   WindGustDir    135134 non-null  object        \n",
      " 8   WindGustSpeed  135197 non-null  float64       \n",
      " 9   WindDir9am     134894 non-null  object        \n",
      " 10  WindDir3pm     141232 non-null  object        \n",
      " 11  WindSpeed9am   143693 non-null  float64       \n",
      " 12  WindSpeed3pm   142398 non-null  float64       \n",
      " 13  Humidity9am    142806 non-null  float64       \n",
      " 14  Humidity3pm    140953 non-null  float64       \n",
      " 15  Pressure9am    130395 non-null  float64       \n",
      " 16  Pressure3pm    130432 non-null  float64       \n",
      " 17  Cloud9am       89572 non-null   float64       \n",
      " 18  Cloud3pm       86102 non-null   float64       \n",
      " 19  Temp9am        143693 non-null  float64       \n",
      " 20  Temp3pm        141851 non-null  float64       \n",
      " 21  RainToday      142199 non-null  object        \n",
      " 22  RainTomorrow   142193 non-null  object        \n",
      " 23  Year           145460 non-null  int64         \n",
      " 24  Month          145460 non-null  int64         \n",
      " 25  Day            145460 non-null  int64         \n",
      "dtypes: datetime64[ns](1), float64(16), int64(3), object(6)\n",
      "memory usage: 28.9+ MB\n"
     ]
    }
   ],
   "source": [
    "# again view the summary of dataset\n",
    "\n",
    "df.info()"
   ]
  },
  {
   "cell_type": "markdown",
   "id": "c569529b",
   "metadata": {},
   "source": [
    "We can see that there are three additional columns created from the Date variable. Now, I will drop the original Date variable from the dataset."
   ]
  },
  {
   "cell_type": "code",
   "execution_count": 33,
   "id": "e6fbad67",
   "metadata": {},
   "outputs": [],
   "source": [
    "# drop the original Date variable\n",
    "\n",
    "df.drop('Date', axis=1, inplace = True)"
   ]
  },
  {
   "cell_type": "code",
   "execution_count": 34,
   "id": "dc3761a9",
   "metadata": {},
   "outputs": [
    {
     "data": {
      "text/html": [
       "<div>\n",
       "<style scoped>\n",
       "    .dataframe tbody tr th:only-of-type {\n",
       "        vertical-align: middle;\n",
       "    }\n",
       "\n",
       "    .dataframe tbody tr th {\n",
       "        vertical-align: top;\n",
       "    }\n",
       "\n",
       "    .dataframe thead th {\n",
       "        text-align: right;\n",
       "    }\n",
       "</style>\n",
       "<table border=\"1\" class=\"dataframe\">\n",
       "  <thead>\n",
       "    <tr style=\"text-align: right;\">\n",
       "      <th></th>\n",
       "      <th>Location</th>\n",
       "      <th>MinTemp</th>\n",
       "      <th>MaxTemp</th>\n",
       "      <th>Rainfall</th>\n",
       "      <th>Evaporation</th>\n",
       "      <th>Sunshine</th>\n",
       "      <th>WindGustDir</th>\n",
       "      <th>WindGustSpeed</th>\n",
       "      <th>WindDir9am</th>\n",
       "      <th>WindDir3pm</th>\n",
       "      <th>...</th>\n",
       "      <th>Pressure3pm</th>\n",
       "      <th>Cloud9am</th>\n",
       "      <th>Cloud3pm</th>\n",
       "      <th>Temp9am</th>\n",
       "      <th>Temp3pm</th>\n",
       "      <th>RainToday</th>\n",
       "      <th>RainTomorrow</th>\n",
       "      <th>Year</th>\n",
       "      <th>Month</th>\n",
       "      <th>Day</th>\n",
       "    </tr>\n",
       "  </thead>\n",
       "  <tbody>\n",
       "    <tr>\n",
       "      <th>0</th>\n",
       "      <td>Albury</td>\n",
       "      <td>13.4</td>\n",
       "      <td>22.9</td>\n",
       "      <td>0.6</td>\n",
       "      <td>NaN</td>\n",
       "      <td>NaN</td>\n",
       "      <td>W</td>\n",
       "      <td>44.0</td>\n",
       "      <td>W</td>\n",
       "      <td>WNW</td>\n",
       "      <td>...</td>\n",
       "      <td>1007.1</td>\n",
       "      <td>8.0</td>\n",
       "      <td>NaN</td>\n",
       "      <td>16.9</td>\n",
       "      <td>21.8</td>\n",
       "      <td>No</td>\n",
       "      <td>No</td>\n",
       "      <td>2008</td>\n",
       "      <td>12</td>\n",
       "      <td>1</td>\n",
       "    </tr>\n",
       "    <tr>\n",
       "      <th>1</th>\n",
       "      <td>Albury</td>\n",
       "      <td>7.4</td>\n",
       "      <td>25.1</td>\n",
       "      <td>0.0</td>\n",
       "      <td>NaN</td>\n",
       "      <td>NaN</td>\n",
       "      <td>WNW</td>\n",
       "      <td>44.0</td>\n",
       "      <td>NNW</td>\n",
       "      <td>WSW</td>\n",
       "      <td>...</td>\n",
       "      <td>1007.8</td>\n",
       "      <td>NaN</td>\n",
       "      <td>NaN</td>\n",
       "      <td>17.2</td>\n",
       "      <td>24.3</td>\n",
       "      <td>No</td>\n",
       "      <td>No</td>\n",
       "      <td>2008</td>\n",
       "      <td>12</td>\n",
       "      <td>2</td>\n",
       "    </tr>\n",
       "    <tr>\n",
       "      <th>2</th>\n",
       "      <td>Albury</td>\n",
       "      <td>12.9</td>\n",
       "      <td>25.7</td>\n",
       "      <td>0.0</td>\n",
       "      <td>NaN</td>\n",
       "      <td>NaN</td>\n",
       "      <td>WSW</td>\n",
       "      <td>46.0</td>\n",
       "      <td>W</td>\n",
       "      <td>WSW</td>\n",
       "      <td>...</td>\n",
       "      <td>1008.7</td>\n",
       "      <td>NaN</td>\n",
       "      <td>2.0</td>\n",
       "      <td>21.0</td>\n",
       "      <td>23.2</td>\n",
       "      <td>No</td>\n",
       "      <td>No</td>\n",
       "      <td>2008</td>\n",
       "      <td>12</td>\n",
       "      <td>3</td>\n",
       "    </tr>\n",
       "    <tr>\n",
       "      <th>3</th>\n",
       "      <td>Albury</td>\n",
       "      <td>9.2</td>\n",
       "      <td>28.0</td>\n",
       "      <td>0.0</td>\n",
       "      <td>NaN</td>\n",
       "      <td>NaN</td>\n",
       "      <td>NE</td>\n",
       "      <td>24.0</td>\n",
       "      <td>SE</td>\n",
       "      <td>E</td>\n",
       "      <td>...</td>\n",
       "      <td>1012.8</td>\n",
       "      <td>NaN</td>\n",
       "      <td>NaN</td>\n",
       "      <td>18.1</td>\n",
       "      <td>26.5</td>\n",
       "      <td>No</td>\n",
       "      <td>No</td>\n",
       "      <td>2008</td>\n",
       "      <td>12</td>\n",
       "      <td>4</td>\n",
       "    </tr>\n",
       "    <tr>\n",
       "      <th>4</th>\n",
       "      <td>Albury</td>\n",
       "      <td>17.5</td>\n",
       "      <td>32.3</td>\n",
       "      <td>1.0</td>\n",
       "      <td>NaN</td>\n",
       "      <td>NaN</td>\n",
       "      <td>W</td>\n",
       "      <td>41.0</td>\n",
       "      <td>ENE</td>\n",
       "      <td>NW</td>\n",
       "      <td>...</td>\n",
       "      <td>1006.0</td>\n",
       "      <td>7.0</td>\n",
       "      <td>8.0</td>\n",
       "      <td>17.8</td>\n",
       "      <td>29.7</td>\n",
       "      <td>No</td>\n",
       "      <td>No</td>\n",
       "      <td>2008</td>\n",
       "      <td>12</td>\n",
       "      <td>5</td>\n",
       "    </tr>\n",
       "  </tbody>\n",
       "</table>\n",
       "<p>5 rows × 25 columns</p>\n",
       "</div>"
      ],
      "text/plain": [
       "  Location  MinTemp  MaxTemp  Rainfall  Evaporation  Sunshine WindGustDir  \\\n",
       "0   Albury     13.4     22.9       0.6          NaN       NaN           W   \n",
       "1   Albury      7.4     25.1       0.0          NaN       NaN         WNW   \n",
       "2   Albury     12.9     25.7       0.0          NaN       NaN         WSW   \n",
       "3   Albury      9.2     28.0       0.0          NaN       NaN          NE   \n",
       "4   Albury     17.5     32.3       1.0          NaN       NaN           W   \n",
       "\n",
       "   WindGustSpeed WindDir9am WindDir3pm  ...  Pressure3pm  Cloud9am  Cloud3pm  \\\n",
       "0           44.0          W        WNW  ...       1007.1       8.0       NaN   \n",
       "1           44.0        NNW        WSW  ...       1007.8       NaN       NaN   \n",
       "2           46.0          W        WSW  ...       1008.7       NaN       2.0   \n",
       "3           24.0         SE          E  ...       1012.8       NaN       NaN   \n",
       "4           41.0        ENE         NW  ...       1006.0       7.0       8.0   \n",
       "\n",
       "   Temp9am  Temp3pm  RainToday  RainTomorrow  Year  Month  Day  \n",
       "0     16.9     21.8         No            No  2008     12    1  \n",
       "1     17.2     24.3         No            No  2008     12    2  \n",
       "2     21.0     23.2         No            No  2008     12    3  \n",
       "3     18.1     26.5         No            No  2008     12    4  \n",
       "4     17.8     29.7         No            No  2008     12    5  \n",
       "\n",
       "[5 rows x 25 columns]"
      ]
     },
     "execution_count": 34,
     "metadata": {},
     "output_type": "execute_result"
    }
   ],
   "source": [
    "# preview the dataset again\n",
    "\n",
    "df.head()"
   ]
  },
  {
   "cell_type": "markdown",
   "id": "a8f02251",
   "metadata": {},
   "source": [
    "Now, we can see that the Date variable has been removed from the dataset."
   ]
  },
  {
   "cell_type": "markdown",
   "id": "2dc4ae85",
   "metadata": {},
   "source": [
    "#### Explore Categorical Variables one by one"
   ]
  },
  {
   "cell_type": "markdown",
   "id": "ea0d95ac",
   "metadata": {},
   "source": [
    "Now, I will explore the categorical variables one by one."
   ]
  },
  {
   "cell_type": "code",
   "execution_count": 35,
   "id": "ff919ec5",
   "metadata": {},
   "outputs": [
    {
     "name": "stdout",
     "output_type": "stream",
     "text": [
      "There are 6 categorical variables\n",
      "\n",
      "The categorical variables are : ['Location', 'WindGustDir', 'WindDir9am', 'WindDir3pm', 'RainToday', 'RainTomorrow']\n"
     ]
    }
   ],
   "source": [
    "# find categorical variables\n",
    "\n",
    "categorical = [var for var in df.columns if df[var].dtype=='O']\n",
    "\n",
    "print('There are {} categorical variables\\n'.format(len(categorical)))\n",
    "\n",
    "print('The categorical variables are :', categorical)"
   ]
  },
  {
   "cell_type": "markdown",
   "id": "940d7828",
   "metadata": {},
   "source": [
    "- We can see that there are 6 categorical variables in the dataset.\n",
    "- The Date variable has been removed. \n",
    "- First, I will check missing values in categorical variables."
   ]
  },
  {
   "cell_type": "code",
   "execution_count": 36,
   "id": "a2861fae",
   "metadata": {},
   "outputs": [
    {
     "data": {
      "text/plain": [
       "Location            0\n",
       "WindGustDir     10326\n",
       "WindDir9am      10566\n",
       "WindDir3pm       4228\n",
       "RainToday        3261\n",
       "RainTomorrow     3267\n",
       "dtype: int64"
      ]
     },
     "execution_count": 36,
     "metadata": {},
     "output_type": "execute_result"
    }
   ],
   "source": [
    "# check for missing values in categorical variables \n",
    "\n",
    "df[categorical].isnull().sum()"
   ]
  },
  {
   "cell_type": "markdown",
   "id": "b1293e1b",
   "metadata": {},
   "source": [
    "- We can see that WindGustDir, WindDir9am, WindDir3pm, RainToday, RainTomorrow variables contain missing values. \n",
    "- I will explore these variables one by one."
   ]
  },
  {
   "cell_type": "markdown",
   "id": "5ba02f05",
   "metadata": {},
   "source": [
    "#### Explore \"Location\" variable"
   ]
  },
  {
   "cell_type": "code",
   "execution_count": 37,
   "id": "a54cf20c",
   "metadata": {},
   "outputs": [
    {
     "name": "stdout",
     "output_type": "stream",
     "text": [
      "Location contains 49 labels\n"
     ]
    }
   ],
   "source": [
    "# print number of labels in Location variable\n",
    "\n",
    "print('Location contains', len(df.Location.unique()), 'labels')"
   ]
  },
  {
   "cell_type": "code",
   "execution_count": 38,
   "id": "c075007e",
   "metadata": {},
   "outputs": [
    {
     "data": {
      "text/plain": [
       "array(['Albury', 'BadgerysCreek', 'Cobar', 'CoffsHarbour', 'Moree',\n",
       "       'Newcastle', 'NorahHead', 'NorfolkIsland', 'Penrith', 'Richmond',\n",
       "       'Sydney', 'SydneyAirport', 'WaggaWagga', 'Williamtown',\n",
       "       'Wollongong', 'Canberra', 'Tuggeranong', 'MountGinini', 'Ballarat',\n",
       "       'Bendigo', 'Sale', 'MelbourneAirport', 'Melbourne', 'Mildura',\n",
       "       'Nhil', 'Portland', 'Watsonia', 'Dartmoor', 'Brisbane', 'Cairns',\n",
       "       'GoldCoast', 'Townsville', 'Adelaide', 'MountGambier', 'Nuriootpa',\n",
       "       'Woomera', 'Albany', 'Witchcliffe', 'PearceRAAF', 'PerthAirport',\n",
       "       'Perth', 'SalmonGums', 'Walpole', 'Hobart', 'Launceston',\n",
       "       'AliceSprings', 'Darwin', 'Katherine', 'Uluru'], dtype=object)"
      ]
     },
     "execution_count": 38,
     "metadata": {},
     "output_type": "execute_result"
    }
   ],
   "source": [
    "# check labels in location variable\n",
    "\n",
    "df.Location.unique()"
   ]
  },
  {
   "cell_type": "code",
   "execution_count": 39,
   "id": "18690160",
   "metadata": {},
   "outputs": [
    {
     "data": {
      "text/plain": [
       "Canberra            3436\n",
       "Sydney              3344\n",
       "Darwin              3193\n",
       "Melbourne           3193\n",
       "Brisbane            3193\n",
       "Adelaide            3193\n",
       "Perth               3193\n",
       "Hobart              3193\n",
       "Albany              3040\n",
       "MountGambier        3040\n",
       "Ballarat            3040\n",
       "Townsville          3040\n",
       "GoldCoast           3040\n",
       "Cairns              3040\n",
       "Launceston          3040\n",
       "AliceSprings        3040\n",
       "Bendigo             3040\n",
       "Albury              3040\n",
       "MountGinini         3040\n",
       "Wollongong          3040\n",
       "Newcastle           3039\n",
       "Tuggeranong         3039\n",
       "Penrith             3039\n",
       "Woomera             3009\n",
       "Nuriootpa           3009\n",
       "Cobar               3009\n",
       "CoffsHarbour        3009\n",
       "Moree               3009\n",
       "Sale                3009\n",
       "PerthAirport        3009\n",
       "PearceRAAF          3009\n",
       "Witchcliffe         3009\n",
       "BadgerysCreek       3009\n",
       "Mildura             3009\n",
       "NorfolkIsland       3009\n",
       "MelbourneAirport    3009\n",
       "Richmond            3009\n",
       "SydneyAirport       3009\n",
       "WaggaWagga          3009\n",
       "Williamtown         3009\n",
       "Dartmoor            3009\n",
       "Watsonia            3009\n",
       "Portland            3009\n",
       "Walpole             3006\n",
       "NorahHead           3004\n",
       "SalmonGums          3001\n",
       "Katherine           1578\n",
       "Nhil                1578\n",
       "Uluru               1578\n",
       "Name: Location, dtype: int64"
      ]
     },
     "execution_count": 39,
     "metadata": {},
     "output_type": "execute_result"
    }
   ],
   "source": [
    "# check frequency distribution of values in Location variable\n",
    "\n",
    "df.Location.value_counts()"
   ]
  },
  {
   "cell_type": "code",
   "execution_count": 40,
   "id": "b50feb44",
   "metadata": {},
   "outputs": [
    {
     "data": {
      "text/html": [
       "<div>\n",
       "<style scoped>\n",
       "    .dataframe tbody tr th:only-of-type {\n",
       "        vertical-align: middle;\n",
       "    }\n",
       "\n",
       "    .dataframe tbody tr th {\n",
       "        vertical-align: top;\n",
       "    }\n",
       "\n",
       "    .dataframe thead th {\n",
       "        text-align: right;\n",
       "    }\n",
       "</style>\n",
       "<table border=\"1\" class=\"dataframe\">\n",
       "  <thead>\n",
       "    <tr style=\"text-align: right;\">\n",
       "      <th></th>\n",
       "      <th>Albany</th>\n",
       "      <th>Albury</th>\n",
       "      <th>AliceSprings</th>\n",
       "      <th>BadgerysCreek</th>\n",
       "      <th>Ballarat</th>\n",
       "      <th>Bendigo</th>\n",
       "      <th>Brisbane</th>\n",
       "      <th>Cairns</th>\n",
       "      <th>Canberra</th>\n",
       "      <th>Cobar</th>\n",
       "      <th>...</th>\n",
       "      <th>Townsville</th>\n",
       "      <th>Tuggeranong</th>\n",
       "      <th>Uluru</th>\n",
       "      <th>WaggaWagga</th>\n",
       "      <th>Walpole</th>\n",
       "      <th>Watsonia</th>\n",
       "      <th>Williamtown</th>\n",
       "      <th>Witchcliffe</th>\n",
       "      <th>Wollongong</th>\n",
       "      <th>Woomera</th>\n",
       "    </tr>\n",
       "  </thead>\n",
       "  <tbody>\n",
       "    <tr>\n",
       "      <th>0</th>\n",
       "      <td>0</td>\n",
       "      <td>1</td>\n",
       "      <td>0</td>\n",
       "      <td>0</td>\n",
       "      <td>0</td>\n",
       "      <td>0</td>\n",
       "      <td>0</td>\n",
       "      <td>0</td>\n",
       "      <td>0</td>\n",
       "      <td>0</td>\n",
       "      <td>...</td>\n",
       "      <td>0</td>\n",
       "      <td>0</td>\n",
       "      <td>0</td>\n",
       "      <td>0</td>\n",
       "      <td>0</td>\n",
       "      <td>0</td>\n",
       "      <td>0</td>\n",
       "      <td>0</td>\n",
       "      <td>0</td>\n",
       "      <td>0</td>\n",
       "    </tr>\n",
       "    <tr>\n",
       "      <th>1</th>\n",
       "      <td>0</td>\n",
       "      <td>1</td>\n",
       "      <td>0</td>\n",
       "      <td>0</td>\n",
       "      <td>0</td>\n",
       "      <td>0</td>\n",
       "      <td>0</td>\n",
       "      <td>0</td>\n",
       "      <td>0</td>\n",
       "      <td>0</td>\n",
       "      <td>...</td>\n",
       "      <td>0</td>\n",
       "      <td>0</td>\n",
       "      <td>0</td>\n",
       "      <td>0</td>\n",
       "      <td>0</td>\n",
       "      <td>0</td>\n",
       "      <td>0</td>\n",
       "      <td>0</td>\n",
       "      <td>0</td>\n",
       "      <td>0</td>\n",
       "    </tr>\n",
       "    <tr>\n",
       "      <th>2</th>\n",
       "      <td>0</td>\n",
       "      <td>1</td>\n",
       "      <td>0</td>\n",
       "      <td>0</td>\n",
       "      <td>0</td>\n",
       "      <td>0</td>\n",
       "      <td>0</td>\n",
       "      <td>0</td>\n",
       "      <td>0</td>\n",
       "      <td>0</td>\n",
       "      <td>...</td>\n",
       "      <td>0</td>\n",
       "      <td>0</td>\n",
       "      <td>0</td>\n",
       "      <td>0</td>\n",
       "      <td>0</td>\n",
       "      <td>0</td>\n",
       "      <td>0</td>\n",
       "      <td>0</td>\n",
       "      <td>0</td>\n",
       "      <td>0</td>\n",
       "    </tr>\n",
       "    <tr>\n",
       "      <th>3</th>\n",
       "      <td>0</td>\n",
       "      <td>1</td>\n",
       "      <td>0</td>\n",
       "      <td>0</td>\n",
       "      <td>0</td>\n",
       "      <td>0</td>\n",
       "      <td>0</td>\n",
       "      <td>0</td>\n",
       "      <td>0</td>\n",
       "      <td>0</td>\n",
       "      <td>...</td>\n",
       "      <td>0</td>\n",
       "      <td>0</td>\n",
       "      <td>0</td>\n",
       "      <td>0</td>\n",
       "      <td>0</td>\n",
       "      <td>0</td>\n",
       "      <td>0</td>\n",
       "      <td>0</td>\n",
       "      <td>0</td>\n",
       "      <td>0</td>\n",
       "    </tr>\n",
       "    <tr>\n",
       "      <th>4</th>\n",
       "      <td>0</td>\n",
       "      <td>1</td>\n",
       "      <td>0</td>\n",
       "      <td>0</td>\n",
       "      <td>0</td>\n",
       "      <td>0</td>\n",
       "      <td>0</td>\n",
       "      <td>0</td>\n",
       "      <td>0</td>\n",
       "      <td>0</td>\n",
       "      <td>...</td>\n",
       "      <td>0</td>\n",
       "      <td>0</td>\n",
       "      <td>0</td>\n",
       "      <td>0</td>\n",
       "      <td>0</td>\n",
       "      <td>0</td>\n",
       "      <td>0</td>\n",
       "      <td>0</td>\n",
       "      <td>0</td>\n",
       "      <td>0</td>\n",
       "    </tr>\n",
       "  </tbody>\n",
       "</table>\n",
       "<p>5 rows × 48 columns</p>\n",
       "</div>"
      ],
      "text/plain": [
       "   Albany  Albury  AliceSprings  BadgerysCreek  Ballarat  Bendigo  Brisbane  \\\n",
       "0       0       1             0              0         0        0         0   \n",
       "1       0       1             0              0         0        0         0   \n",
       "2       0       1             0              0         0        0         0   \n",
       "3       0       1             0              0         0        0         0   \n",
       "4       0       1             0              0         0        0         0   \n",
       "\n",
       "   Cairns  Canberra  Cobar  ...  Townsville  Tuggeranong  Uluru  WaggaWagga  \\\n",
       "0       0         0      0  ...           0            0      0           0   \n",
       "1       0         0      0  ...           0            0      0           0   \n",
       "2       0         0      0  ...           0            0      0           0   \n",
       "3       0         0      0  ...           0            0      0           0   \n",
       "4       0         0      0  ...           0            0      0           0   \n",
       "\n",
       "   Walpole  Watsonia  Williamtown  Witchcliffe  Wollongong  Woomera  \n",
       "0        0         0            0            0           0        0  \n",
       "1        0         0            0            0           0        0  \n",
       "2        0         0            0            0           0        0  \n",
       "3        0         0            0            0           0        0  \n",
       "4        0         0            0            0           0        0  \n",
       "\n",
       "[5 rows x 48 columns]"
      ]
     },
     "execution_count": 40,
     "metadata": {},
     "output_type": "execute_result"
    }
   ],
   "source": [
    "# let's do One Hot Encoding of Location variable\n",
    "# get k-1 dummy variables after One Hot Encoding \n",
    "# preview the dataset with head() method\n",
    "\n",
    "pd.get_dummies(df.Location, drop_first=True).head()"
   ]
  },
  {
   "cell_type": "markdown",
   "id": "db958671",
   "metadata": {},
   "source": [
    "#### Explore \"WindGustDir\" variable"
   ]
  },
  {
   "cell_type": "code",
   "execution_count": 41,
   "id": "2ec48fc4",
   "metadata": {},
   "outputs": [
    {
     "name": "stdout",
     "output_type": "stream",
     "text": [
      "WindGustDir contains 17 labels\n"
     ]
    }
   ],
   "source": [
    "# print number of labels in WindGustDir variable\n",
    "\n",
    "print('WindGustDir contains', len(df['WindGustDir'].unique()), 'labels')"
   ]
  },
  {
   "cell_type": "code",
   "execution_count": 42,
   "id": "6273ed41",
   "metadata": {},
   "outputs": [
    {
     "data": {
      "text/plain": [
       "array(['W', 'WNW', 'WSW', 'NE', 'NNW', 'N', 'NNE', 'SW', nan, 'ENE',\n",
       "       'SSE', 'S', 'NW', 'SE', 'ESE', 'E', 'SSW'], dtype=object)"
      ]
     },
     "execution_count": 42,
     "metadata": {},
     "output_type": "execute_result"
    }
   ],
   "source": [
    "# check labels in WindGustDir variable\n",
    "\n",
    "df['WindGustDir'].unique()"
   ]
  },
  {
   "cell_type": "code",
   "execution_count": 43,
   "id": "14af6359",
   "metadata": {},
   "outputs": [
    {
     "data": {
      "text/plain": [
       "W      9915\n",
       "SE     9418\n",
       "N      9313\n",
       "SSE    9216\n",
       "E      9181\n",
       "S      9168\n",
       "WSW    9069\n",
       "SW     8967\n",
       "SSW    8736\n",
       "WNW    8252\n",
       "NW     8122\n",
       "ENE    8104\n",
       "ESE    7372\n",
       "NE     7133\n",
       "NNW    6620\n",
       "NNE    6548\n",
       "Name: WindGustDir, dtype: int64"
      ]
     },
     "execution_count": 43,
     "metadata": {},
     "output_type": "execute_result"
    }
   ],
   "source": [
    "# check frequency distribution of values in WindGustDir variable\n",
    "\n",
    "df.WindGustDir.value_counts()"
   ]
  },
  {
   "cell_type": "code",
   "execution_count": 44,
   "id": "e79e3e0e",
   "metadata": {},
   "outputs": [
    {
     "data": {
      "text/html": [
       "<div>\n",
       "<style scoped>\n",
       "    .dataframe tbody tr th:only-of-type {\n",
       "        vertical-align: middle;\n",
       "    }\n",
       "\n",
       "    .dataframe tbody tr th {\n",
       "        vertical-align: top;\n",
       "    }\n",
       "\n",
       "    .dataframe thead th {\n",
       "        text-align: right;\n",
       "    }\n",
       "</style>\n",
       "<table border=\"1\" class=\"dataframe\">\n",
       "  <thead>\n",
       "    <tr style=\"text-align: right;\">\n",
       "      <th></th>\n",
       "      <th>ENE</th>\n",
       "      <th>ESE</th>\n",
       "      <th>N</th>\n",
       "      <th>NE</th>\n",
       "      <th>NNE</th>\n",
       "      <th>NNW</th>\n",
       "      <th>NW</th>\n",
       "      <th>S</th>\n",
       "      <th>SE</th>\n",
       "      <th>SSE</th>\n",
       "      <th>SSW</th>\n",
       "      <th>SW</th>\n",
       "      <th>W</th>\n",
       "      <th>WNW</th>\n",
       "      <th>WSW</th>\n",
       "      <th>NaN</th>\n",
       "    </tr>\n",
       "  </thead>\n",
       "  <tbody>\n",
       "    <tr>\n",
       "      <th>0</th>\n",
       "      <td>0</td>\n",
       "      <td>0</td>\n",
       "      <td>0</td>\n",
       "      <td>0</td>\n",
       "      <td>0</td>\n",
       "      <td>0</td>\n",
       "      <td>0</td>\n",
       "      <td>0</td>\n",
       "      <td>0</td>\n",
       "      <td>0</td>\n",
       "      <td>0</td>\n",
       "      <td>0</td>\n",
       "      <td>1</td>\n",
       "      <td>0</td>\n",
       "      <td>0</td>\n",
       "      <td>0</td>\n",
       "    </tr>\n",
       "    <tr>\n",
       "      <th>1</th>\n",
       "      <td>0</td>\n",
       "      <td>0</td>\n",
       "      <td>0</td>\n",
       "      <td>0</td>\n",
       "      <td>0</td>\n",
       "      <td>0</td>\n",
       "      <td>0</td>\n",
       "      <td>0</td>\n",
       "      <td>0</td>\n",
       "      <td>0</td>\n",
       "      <td>0</td>\n",
       "      <td>0</td>\n",
       "      <td>0</td>\n",
       "      <td>1</td>\n",
       "      <td>0</td>\n",
       "      <td>0</td>\n",
       "    </tr>\n",
       "    <tr>\n",
       "      <th>2</th>\n",
       "      <td>0</td>\n",
       "      <td>0</td>\n",
       "      <td>0</td>\n",
       "      <td>0</td>\n",
       "      <td>0</td>\n",
       "      <td>0</td>\n",
       "      <td>0</td>\n",
       "      <td>0</td>\n",
       "      <td>0</td>\n",
       "      <td>0</td>\n",
       "      <td>0</td>\n",
       "      <td>0</td>\n",
       "      <td>0</td>\n",
       "      <td>0</td>\n",
       "      <td>1</td>\n",
       "      <td>0</td>\n",
       "    </tr>\n",
       "    <tr>\n",
       "      <th>3</th>\n",
       "      <td>0</td>\n",
       "      <td>0</td>\n",
       "      <td>0</td>\n",
       "      <td>1</td>\n",
       "      <td>0</td>\n",
       "      <td>0</td>\n",
       "      <td>0</td>\n",
       "      <td>0</td>\n",
       "      <td>0</td>\n",
       "      <td>0</td>\n",
       "      <td>0</td>\n",
       "      <td>0</td>\n",
       "      <td>0</td>\n",
       "      <td>0</td>\n",
       "      <td>0</td>\n",
       "      <td>0</td>\n",
       "    </tr>\n",
       "    <tr>\n",
       "      <th>4</th>\n",
       "      <td>0</td>\n",
       "      <td>0</td>\n",
       "      <td>0</td>\n",
       "      <td>0</td>\n",
       "      <td>0</td>\n",
       "      <td>0</td>\n",
       "      <td>0</td>\n",
       "      <td>0</td>\n",
       "      <td>0</td>\n",
       "      <td>0</td>\n",
       "      <td>0</td>\n",
       "      <td>0</td>\n",
       "      <td>1</td>\n",
       "      <td>0</td>\n",
       "      <td>0</td>\n",
       "      <td>0</td>\n",
       "    </tr>\n",
       "  </tbody>\n",
       "</table>\n",
       "</div>"
      ],
      "text/plain": [
       "   ENE  ESE  N  NE  NNE  NNW  NW  S  SE  SSE  SSW  SW  W  WNW  WSW  NaN\n",
       "0    0    0  0   0    0    0   0  0   0    0    0   0  1    0    0    0\n",
       "1    0    0  0   0    0    0   0  0   0    0    0   0  0    1    0    0\n",
       "2    0    0  0   0    0    0   0  0   0    0    0   0  0    0    1    0\n",
       "3    0    0  0   1    0    0   0  0   0    0    0   0  0    0    0    0\n",
       "4    0    0  0   0    0    0   0  0   0    0    0   0  1    0    0    0"
      ]
     },
     "execution_count": 44,
     "metadata": {},
     "output_type": "execute_result"
    }
   ],
   "source": [
    "# let's do One Hot Encoding of WindGustDir variable\n",
    "# get k-1 dummy variables after One Hot Encoding \n",
    "# also add an additional dummy variable to indicate there was missing data\n",
    "# preview the dataset with head() method\n",
    "\n",
    "pd.get_dummies(df.WindGustDir, drop_first=True, dummy_na=True).head()"
   ]
  },
  {
   "cell_type": "code",
   "execution_count": 45,
   "id": "411880f1",
   "metadata": {},
   "outputs": [
    {
     "data": {
      "text/plain": [
       "ENE     8104\n",
       "ESE     7372\n",
       "N       9313\n",
       "NE      7133\n",
       "NNE     6548\n",
       "NNW     6620\n",
       "NW      8122\n",
       "S       9168\n",
       "SE      9418\n",
       "SSE     9216\n",
       "SSW     8736\n",
       "SW      8967\n",
       "W       9915\n",
       "WNW     8252\n",
       "WSW     9069\n",
       "NaN    10326\n",
       "dtype: int64"
      ]
     },
     "execution_count": 45,
     "metadata": {},
     "output_type": "execute_result"
    }
   ],
   "source": [
    "# sum the number of 1s per boolean variable over the rows of the dataset\n",
    "# it will tell us how many observations we have for each category\n",
    "\n",
    "pd.get_dummies(df.WindGustDir, drop_first=True, dummy_na=True).sum(axis=0)"
   ]
  },
  {
   "cell_type": "markdown",
   "id": "738d190e",
   "metadata": {},
   "source": [
    "We can see that there are 10326 missing values in WindGustDir variable."
   ]
  },
  {
   "cell_type": "markdown",
   "id": "7408bda9",
   "metadata": {},
   "source": [
    "#### Explore \"WindDir9am\" variable"
   ]
  },
  {
   "cell_type": "code",
   "execution_count": 46,
   "id": "52facd4e",
   "metadata": {},
   "outputs": [
    {
     "name": "stdout",
     "output_type": "stream",
     "text": [
      "WindDir9am contains 17 labels\n"
     ]
    }
   ],
   "source": [
    "# print number of labels in WindDir9am variable\n",
    "\n",
    "print('WindDir9am contains', len(df['WindDir9am'].unique()), 'labels')"
   ]
  },
  {
   "cell_type": "code",
   "execution_count": 47,
   "id": "a44efa06",
   "metadata": {},
   "outputs": [
    {
     "data": {
      "text/plain": [
       "array(['W', 'NNW', 'SE', 'ENE', 'SW', 'SSE', 'S', 'NE', nan, 'SSW', 'N',\n",
       "       'WSW', 'ESE', 'E', 'NW', 'WNW', 'NNE'], dtype=object)"
      ]
     },
     "execution_count": 47,
     "metadata": {},
     "output_type": "execute_result"
    }
   ],
   "source": [
    "# check labels in WindDir9am variable\n",
    "\n",
    "df['WindDir9am'].unique()"
   ]
  },
  {
   "cell_type": "code",
   "execution_count": 48,
   "id": "78b3de88",
   "metadata": {},
   "outputs": [
    {
     "data": {
      "text/plain": [
       "N      11758\n",
       "SE      9287\n",
       "E       9176\n",
       "SSE     9112\n",
       "NW      8749\n",
       "S       8659\n",
       "W       8459\n",
       "SW      8423\n",
       "NNE     8129\n",
       "NNW     7980\n",
       "ENE     7836\n",
       "NE      7671\n",
       "ESE     7630\n",
       "SSW     7587\n",
       "WNW     7414\n",
       "WSW     7024\n",
       "Name: WindDir9am, dtype: int64"
      ]
     },
     "execution_count": 48,
     "metadata": {},
     "output_type": "execute_result"
    }
   ],
   "source": [
    "# check frequency distribution of values in WindDir9am variable\n",
    "\n",
    "df['WindDir9am'].value_counts()"
   ]
  },
  {
   "cell_type": "code",
   "execution_count": 49,
   "id": "c11a4ed1",
   "metadata": {},
   "outputs": [
    {
     "data": {
      "text/html": [
       "<div>\n",
       "<style scoped>\n",
       "    .dataframe tbody tr th:only-of-type {\n",
       "        vertical-align: middle;\n",
       "    }\n",
       "\n",
       "    .dataframe tbody tr th {\n",
       "        vertical-align: top;\n",
       "    }\n",
       "\n",
       "    .dataframe thead th {\n",
       "        text-align: right;\n",
       "    }\n",
       "</style>\n",
       "<table border=\"1\" class=\"dataframe\">\n",
       "  <thead>\n",
       "    <tr style=\"text-align: right;\">\n",
       "      <th></th>\n",
       "      <th>ENE</th>\n",
       "      <th>ESE</th>\n",
       "      <th>N</th>\n",
       "      <th>NE</th>\n",
       "      <th>NNE</th>\n",
       "      <th>NNW</th>\n",
       "      <th>NW</th>\n",
       "      <th>S</th>\n",
       "      <th>SE</th>\n",
       "      <th>SSE</th>\n",
       "      <th>SSW</th>\n",
       "      <th>SW</th>\n",
       "      <th>W</th>\n",
       "      <th>WNW</th>\n",
       "      <th>WSW</th>\n",
       "      <th>NaN</th>\n",
       "    </tr>\n",
       "  </thead>\n",
       "  <tbody>\n",
       "    <tr>\n",
       "      <th>0</th>\n",
       "      <td>0</td>\n",
       "      <td>0</td>\n",
       "      <td>0</td>\n",
       "      <td>0</td>\n",
       "      <td>0</td>\n",
       "      <td>0</td>\n",
       "      <td>0</td>\n",
       "      <td>0</td>\n",
       "      <td>0</td>\n",
       "      <td>0</td>\n",
       "      <td>0</td>\n",
       "      <td>0</td>\n",
       "      <td>1</td>\n",
       "      <td>0</td>\n",
       "      <td>0</td>\n",
       "      <td>0</td>\n",
       "    </tr>\n",
       "    <tr>\n",
       "      <th>1</th>\n",
       "      <td>0</td>\n",
       "      <td>0</td>\n",
       "      <td>0</td>\n",
       "      <td>0</td>\n",
       "      <td>0</td>\n",
       "      <td>1</td>\n",
       "      <td>0</td>\n",
       "      <td>0</td>\n",
       "      <td>0</td>\n",
       "      <td>0</td>\n",
       "      <td>0</td>\n",
       "      <td>0</td>\n",
       "      <td>0</td>\n",
       "      <td>0</td>\n",
       "      <td>0</td>\n",
       "      <td>0</td>\n",
       "    </tr>\n",
       "    <tr>\n",
       "      <th>2</th>\n",
       "      <td>0</td>\n",
       "      <td>0</td>\n",
       "      <td>0</td>\n",
       "      <td>0</td>\n",
       "      <td>0</td>\n",
       "      <td>0</td>\n",
       "      <td>0</td>\n",
       "      <td>0</td>\n",
       "      <td>0</td>\n",
       "      <td>0</td>\n",
       "      <td>0</td>\n",
       "      <td>0</td>\n",
       "      <td>1</td>\n",
       "      <td>0</td>\n",
       "      <td>0</td>\n",
       "      <td>0</td>\n",
       "    </tr>\n",
       "    <tr>\n",
       "      <th>3</th>\n",
       "      <td>0</td>\n",
       "      <td>0</td>\n",
       "      <td>0</td>\n",
       "      <td>0</td>\n",
       "      <td>0</td>\n",
       "      <td>0</td>\n",
       "      <td>0</td>\n",
       "      <td>0</td>\n",
       "      <td>1</td>\n",
       "      <td>0</td>\n",
       "      <td>0</td>\n",
       "      <td>0</td>\n",
       "      <td>0</td>\n",
       "      <td>0</td>\n",
       "      <td>0</td>\n",
       "      <td>0</td>\n",
       "    </tr>\n",
       "    <tr>\n",
       "      <th>4</th>\n",
       "      <td>1</td>\n",
       "      <td>0</td>\n",
       "      <td>0</td>\n",
       "      <td>0</td>\n",
       "      <td>0</td>\n",
       "      <td>0</td>\n",
       "      <td>0</td>\n",
       "      <td>0</td>\n",
       "      <td>0</td>\n",
       "      <td>0</td>\n",
       "      <td>0</td>\n",
       "      <td>0</td>\n",
       "      <td>0</td>\n",
       "      <td>0</td>\n",
       "      <td>0</td>\n",
       "      <td>0</td>\n",
       "    </tr>\n",
       "  </tbody>\n",
       "</table>\n",
       "</div>"
      ],
      "text/plain": [
       "   ENE  ESE  N  NE  NNE  NNW  NW  S  SE  SSE  SSW  SW  W  WNW  WSW  NaN\n",
       "0    0    0  0   0    0    0   0  0   0    0    0   0  1    0    0    0\n",
       "1    0    0  0   0    0    1   0  0   0    0    0   0  0    0    0    0\n",
       "2    0    0  0   0    0    0   0  0   0    0    0   0  1    0    0    0\n",
       "3    0    0  0   0    0    0   0  0   1    0    0   0  0    0    0    0\n",
       "4    1    0  0   0    0    0   0  0   0    0    0   0  0    0    0    0"
      ]
     },
     "execution_count": 49,
     "metadata": {},
     "output_type": "execute_result"
    }
   ],
   "source": [
    "# let's do One Hot Encoding of WindDir9am variable\n",
    "# get k-1 dummy variables after One Hot Encoding \n",
    "# also add an additional dummy variable to indicate there was missing data\n",
    "# preview the dataset with head() method\n",
    "\n",
    "pd.get_dummies(df.WindDir9am, drop_first=True, dummy_na=True).head()"
   ]
  },
  {
   "cell_type": "code",
   "execution_count": 50,
   "id": "04ffdaeb",
   "metadata": {},
   "outputs": [
    {
     "data": {
      "text/plain": [
       "ENE     7836\n",
       "ESE     7630\n",
       "N      11758\n",
       "NE      7671\n",
       "NNE     8129\n",
       "NNW     7980\n",
       "NW      8749\n",
       "S       8659\n",
       "SE      9287\n",
       "SSE     9112\n",
       "SSW     7587\n",
       "SW      8423\n",
       "W       8459\n",
       "WNW     7414\n",
       "WSW     7024\n",
       "NaN    10566\n",
       "dtype: int64"
      ]
     },
     "execution_count": 50,
     "metadata": {},
     "output_type": "execute_result"
    }
   ],
   "source": [
    "# sum the number of 1s per boolean variable over the rows of the dataset\n",
    "# it will tell us how many observations we have for each category\n",
    "\n",
    "pd.get_dummies(df.WindDir9am, drop_first=True, dummy_na=True).sum(axis=0)"
   ]
  },
  {
   "cell_type": "markdown",
   "id": "bcb6836d",
   "metadata": {},
   "source": [
    "We can see that there are 10566 missing values in the `WindDir9am` variable."
   ]
  },
  {
   "cell_type": "markdown",
   "id": "7e261bbb",
   "metadata": {},
   "source": [
    "#### Explore \"WindDir3pm\" variable"
   ]
  },
  {
   "cell_type": "code",
   "execution_count": 51,
   "id": "53012f94",
   "metadata": {},
   "outputs": [
    {
     "name": "stdout",
     "output_type": "stream",
     "text": [
      "WindDir3pm contains 17 labels\n"
     ]
    }
   ],
   "source": [
    "# print number of labels in WindDir3pm variable\n",
    "\n",
    "print('WindDir3pm contains', len(df['WindDir3pm'].unique()), 'labels')"
   ]
  },
  {
   "cell_type": "code",
   "execution_count": 52,
   "id": "487cf32c",
   "metadata": {},
   "outputs": [
    {
     "data": {
      "text/plain": [
       "array(['WNW', 'WSW', 'E', 'NW', 'W', 'SSE', 'ESE', 'ENE', 'NNW', 'SSW',\n",
       "       'SW', 'SE', 'N', 'S', 'NNE', nan, 'NE'], dtype=object)"
      ]
     },
     "execution_count": 52,
     "metadata": {},
     "output_type": "execute_result"
    }
   ],
   "source": [
    "# check labels in WindDir3pm variable\n",
    "\n",
    "df['WindDir3pm'].unique()"
   ]
  },
  {
   "cell_type": "code",
   "execution_count": 53,
   "id": "e072d374",
   "metadata": {},
   "outputs": [
    {
     "data": {
      "text/plain": [
       "SE     10838\n",
       "W      10110\n",
       "S       9926\n",
       "WSW     9518\n",
       "SSE     9399\n",
       "SW      9354\n",
       "N       8890\n",
       "WNW     8874\n",
       "NW      8610\n",
       "ESE     8505\n",
       "E       8472\n",
       "NE      8263\n",
       "SSW     8156\n",
       "NNW     7870\n",
       "ENE     7857\n",
       "NNE     6590\n",
       "Name: WindDir3pm, dtype: int64"
      ]
     },
     "execution_count": 53,
     "metadata": {},
     "output_type": "execute_result"
    }
   ],
   "source": [
    "# check frequency distribution of values in WindDir3pm variable\n",
    "\n",
    "df['WindDir3pm'].value_counts()"
   ]
  },
  {
   "cell_type": "code",
   "execution_count": 54,
   "id": "08073db9",
   "metadata": {},
   "outputs": [
    {
     "data": {
      "text/html": [
       "<div>\n",
       "<style scoped>\n",
       "    .dataframe tbody tr th:only-of-type {\n",
       "        vertical-align: middle;\n",
       "    }\n",
       "\n",
       "    .dataframe tbody tr th {\n",
       "        vertical-align: top;\n",
       "    }\n",
       "\n",
       "    .dataframe thead th {\n",
       "        text-align: right;\n",
       "    }\n",
       "</style>\n",
       "<table border=\"1\" class=\"dataframe\">\n",
       "  <thead>\n",
       "    <tr style=\"text-align: right;\">\n",
       "      <th></th>\n",
       "      <th>ENE</th>\n",
       "      <th>ESE</th>\n",
       "      <th>N</th>\n",
       "      <th>NE</th>\n",
       "      <th>NNE</th>\n",
       "      <th>NNW</th>\n",
       "      <th>NW</th>\n",
       "      <th>S</th>\n",
       "      <th>SE</th>\n",
       "      <th>SSE</th>\n",
       "      <th>SSW</th>\n",
       "      <th>SW</th>\n",
       "      <th>W</th>\n",
       "      <th>WNW</th>\n",
       "      <th>WSW</th>\n",
       "      <th>NaN</th>\n",
       "    </tr>\n",
       "  </thead>\n",
       "  <tbody>\n",
       "    <tr>\n",
       "      <th>0</th>\n",
       "      <td>0</td>\n",
       "      <td>0</td>\n",
       "      <td>0</td>\n",
       "      <td>0</td>\n",
       "      <td>0</td>\n",
       "      <td>0</td>\n",
       "      <td>0</td>\n",
       "      <td>0</td>\n",
       "      <td>0</td>\n",
       "      <td>0</td>\n",
       "      <td>0</td>\n",
       "      <td>0</td>\n",
       "      <td>0</td>\n",
       "      <td>1</td>\n",
       "      <td>0</td>\n",
       "      <td>0</td>\n",
       "    </tr>\n",
       "    <tr>\n",
       "      <th>1</th>\n",
       "      <td>0</td>\n",
       "      <td>0</td>\n",
       "      <td>0</td>\n",
       "      <td>0</td>\n",
       "      <td>0</td>\n",
       "      <td>0</td>\n",
       "      <td>0</td>\n",
       "      <td>0</td>\n",
       "      <td>0</td>\n",
       "      <td>0</td>\n",
       "      <td>0</td>\n",
       "      <td>0</td>\n",
       "      <td>0</td>\n",
       "      <td>0</td>\n",
       "      <td>1</td>\n",
       "      <td>0</td>\n",
       "    </tr>\n",
       "    <tr>\n",
       "      <th>2</th>\n",
       "      <td>0</td>\n",
       "      <td>0</td>\n",
       "      <td>0</td>\n",
       "      <td>0</td>\n",
       "      <td>0</td>\n",
       "      <td>0</td>\n",
       "      <td>0</td>\n",
       "      <td>0</td>\n",
       "      <td>0</td>\n",
       "      <td>0</td>\n",
       "      <td>0</td>\n",
       "      <td>0</td>\n",
       "      <td>0</td>\n",
       "      <td>0</td>\n",
       "      <td>1</td>\n",
       "      <td>0</td>\n",
       "    </tr>\n",
       "    <tr>\n",
       "      <th>3</th>\n",
       "      <td>0</td>\n",
       "      <td>0</td>\n",
       "      <td>0</td>\n",
       "      <td>0</td>\n",
       "      <td>0</td>\n",
       "      <td>0</td>\n",
       "      <td>0</td>\n",
       "      <td>0</td>\n",
       "      <td>0</td>\n",
       "      <td>0</td>\n",
       "      <td>0</td>\n",
       "      <td>0</td>\n",
       "      <td>0</td>\n",
       "      <td>0</td>\n",
       "      <td>0</td>\n",
       "      <td>0</td>\n",
       "    </tr>\n",
       "    <tr>\n",
       "      <th>4</th>\n",
       "      <td>0</td>\n",
       "      <td>0</td>\n",
       "      <td>0</td>\n",
       "      <td>0</td>\n",
       "      <td>0</td>\n",
       "      <td>0</td>\n",
       "      <td>1</td>\n",
       "      <td>0</td>\n",
       "      <td>0</td>\n",
       "      <td>0</td>\n",
       "      <td>0</td>\n",
       "      <td>0</td>\n",
       "      <td>0</td>\n",
       "      <td>0</td>\n",
       "      <td>0</td>\n",
       "      <td>0</td>\n",
       "    </tr>\n",
       "  </tbody>\n",
       "</table>\n",
       "</div>"
      ],
      "text/plain": [
       "   ENE  ESE  N  NE  NNE  NNW  NW  S  SE  SSE  SSW  SW  W  WNW  WSW  NaN\n",
       "0    0    0  0   0    0    0   0  0   0    0    0   0  0    1    0    0\n",
       "1    0    0  0   0    0    0   0  0   0    0    0   0  0    0    1    0\n",
       "2    0    0  0   0    0    0   0  0   0    0    0   0  0    0    1    0\n",
       "3    0    0  0   0    0    0   0  0   0    0    0   0  0    0    0    0\n",
       "4    0    0  0   0    0    0   1  0   0    0    0   0  0    0    0    0"
      ]
     },
     "execution_count": 54,
     "metadata": {},
     "output_type": "execute_result"
    }
   ],
   "source": [
    "# let's do One Hot Encoding of WindDir3pm variable\n",
    "# get k-1 dummy variables after One Hot Encoding \n",
    "# also add an additional dummy variable to indicate there was missing data\n",
    "# preview the dataset with head() method\n",
    "\n",
    "pd.get_dummies(df.WindDir3pm, drop_first=True, dummy_na=True).head()"
   ]
  },
  {
   "cell_type": "code",
   "execution_count": 55,
   "id": "73531830",
   "metadata": {},
   "outputs": [
    {
     "data": {
      "text/plain": [
       "ENE     7857\n",
       "ESE     8505\n",
       "N       8890\n",
       "NE      8263\n",
       "NNE     6590\n",
       "NNW     7870\n",
       "NW      8610\n",
       "S       9926\n",
       "SE     10838\n",
       "SSE     9399\n",
       "SSW     8156\n",
       "SW      9354\n",
       "W      10110\n",
       "WNW     8874\n",
       "WSW     9518\n",
       "NaN     4228\n",
       "dtype: int64"
      ]
     },
     "execution_count": 55,
     "metadata": {},
     "output_type": "execute_result"
    }
   ],
   "source": [
    "# sum the number of 1s per boolean variable over the rows of the dataset\n",
    "# it will tell us how many observations we have for each category\n",
    "\n",
    "pd.get_dummies(df.WindDir3pm, drop_first=True, dummy_na=True).sum(axis=0)"
   ]
  },
  {
   "cell_type": "markdown",
   "id": "3e20077a",
   "metadata": {},
   "source": [
    "There are 4228 missing values in the `WindDir3pm` variable."
   ]
  },
  {
   "cell_type": "markdown",
   "id": "91eee385",
   "metadata": {},
   "source": [
    "#### Explore \"RainToday\" variable"
   ]
  },
  {
   "cell_type": "code",
   "execution_count": 56,
   "id": "d92a6456",
   "metadata": {},
   "outputs": [
    {
     "name": "stdout",
     "output_type": "stream",
     "text": [
      "RainToday contains 3 labels\n"
     ]
    }
   ],
   "source": [
    "# print number of labels in RainToday variable\n",
    "\n",
    "print('RainToday contains', len(df['RainToday'].unique()), 'labels')"
   ]
  },
  {
   "cell_type": "code",
   "execution_count": 57,
   "id": "7a17901c",
   "metadata": {},
   "outputs": [
    {
     "data": {
      "text/plain": [
       "array(['No', 'Yes', nan], dtype=object)"
      ]
     },
     "execution_count": 57,
     "metadata": {},
     "output_type": "execute_result"
    }
   ],
   "source": [
    "# check labels in WindGustDir variable\n",
    "\n",
    "df['RainToday'].unique()"
   ]
  },
  {
   "cell_type": "code",
   "execution_count": 58,
   "id": "f87af23f",
   "metadata": {},
   "outputs": [
    {
     "data": {
      "text/plain": [
       "No     110319\n",
       "Yes     31880\n",
       "Name: RainToday, dtype: int64"
      ]
     },
     "execution_count": 58,
     "metadata": {},
     "output_type": "execute_result"
    }
   ],
   "source": [
    "# check frequency distribution of values in WindGustDir variable\n",
    "\n",
    "df.RainToday.value_counts()"
   ]
  },
  {
   "cell_type": "code",
   "execution_count": 59,
   "id": "23ecc187",
   "metadata": {},
   "outputs": [
    {
     "data": {
      "text/html": [
       "<div>\n",
       "<style scoped>\n",
       "    .dataframe tbody tr th:only-of-type {\n",
       "        vertical-align: middle;\n",
       "    }\n",
       "\n",
       "    .dataframe tbody tr th {\n",
       "        vertical-align: top;\n",
       "    }\n",
       "\n",
       "    .dataframe thead th {\n",
       "        text-align: right;\n",
       "    }\n",
       "</style>\n",
       "<table border=\"1\" class=\"dataframe\">\n",
       "  <thead>\n",
       "    <tr style=\"text-align: right;\">\n",
       "      <th></th>\n",
       "      <th>Yes</th>\n",
       "      <th>NaN</th>\n",
       "    </tr>\n",
       "  </thead>\n",
       "  <tbody>\n",
       "    <tr>\n",
       "      <th>0</th>\n",
       "      <td>0</td>\n",
       "      <td>0</td>\n",
       "    </tr>\n",
       "    <tr>\n",
       "      <th>1</th>\n",
       "      <td>0</td>\n",
       "      <td>0</td>\n",
       "    </tr>\n",
       "    <tr>\n",
       "      <th>2</th>\n",
       "      <td>0</td>\n",
       "      <td>0</td>\n",
       "    </tr>\n",
       "    <tr>\n",
       "      <th>3</th>\n",
       "      <td>0</td>\n",
       "      <td>0</td>\n",
       "    </tr>\n",
       "    <tr>\n",
       "      <th>4</th>\n",
       "      <td>0</td>\n",
       "      <td>0</td>\n",
       "    </tr>\n",
       "  </tbody>\n",
       "</table>\n",
       "</div>"
      ],
      "text/plain": [
       "   Yes  NaN\n",
       "0    0    0\n",
       "1    0    0\n",
       "2    0    0\n",
       "3    0    0\n",
       "4    0    0"
      ]
     },
     "execution_count": 59,
     "metadata": {},
     "output_type": "execute_result"
    }
   ],
   "source": [
    "# let's do One Hot Encoding of RainToday variable\n",
    "# get k-1 dummy variables after One Hot Encoding \n",
    "# also add an additional dummy variable to indicate there was missing data\n",
    "# preview the dataset with head() method\n",
    "\n",
    "pd.get_dummies(df.RainToday, drop_first=True, dummy_na=True).head()"
   ]
  },
  {
   "cell_type": "code",
   "execution_count": 60,
   "id": "807b7a4e",
   "metadata": {},
   "outputs": [
    {
     "data": {
      "text/plain": [
       "Yes    31880\n",
       "NaN     3261\n",
       "dtype: int64"
      ]
     },
     "execution_count": 60,
     "metadata": {},
     "output_type": "execute_result"
    }
   ],
   "source": [
    "# sum the number of 1s per boolean variable over the rows of the dataset\n",
    "# it will tell us how many observations we have for each category\n",
    "\n",
    "pd.get_dummies(df.RainToday, drop_first=True, dummy_na=True).sum(axis=0)"
   ]
  },
  {
   "cell_type": "markdown",
   "id": "2e063c0f",
   "metadata": {},
   "source": [
    "There are 3261 missing values in the `RainToday` variable."
   ]
  },
  {
   "cell_type": "markdown",
   "id": "a56de1e0",
   "metadata": {},
   "source": [
    "### Explore Numerical Variables"
   ]
  },
  {
   "cell_type": "code",
   "execution_count": 61,
   "id": "93b4916e",
   "metadata": {},
   "outputs": [
    {
     "name": "stdout",
     "output_type": "stream",
     "text": [
      "There are 19 numerical variables\n",
      "\n",
      "The numerical variables are : ['MinTemp', 'MaxTemp', 'Rainfall', 'Evaporation', 'Sunshine', 'WindGustSpeed', 'WindSpeed9am', 'WindSpeed3pm', 'Humidity9am', 'Humidity3pm', 'Pressure9am', 'Pressure3pm', 'Cloud9am', 'Cloud3pm', 'Temp9am', 'Temp3pm', 'Year', 'Month', 'Day']\n"
     ]
    }
   ],
   "source": [
    "# find numerical variables\n",
    "\n",
    "numerical = [var for var in df.columns if df[var].dtype!='O']\n",
    "\n",
    "print('There are {} numerical variables\\n'.format(len(numerical)))\n",
    "\n",
    "print('The numerical variables are :', numerical)"
   ]
  },
  {
   "cell_type": "code",
   "execution_count": 62,
   "id": "f9488776",
   "metadata": {},
   "outputs": [
    {
     "data": {
      "text/html": [
       "<div>\n",
       "<style scoped>\n",
       "    .dataframe tbody tr th:only-of-type {\n",
       "        vertical-align: middle;\n",
       "    }\n",
       "\n",
       "    .dataframe tbody tr th {\n",
       "        vertical-align: top;\n",
       "    }\n",
       "\n",
       "    .dataframe thead th {\n",
       "        text-align: right;\n",
       "    }\n",
       "</style>\n",
       "<table border=\"1\" class=\"dataframe\">\n",
       "  <thead>\n",
       "    <tr style=\"text-align: right;\">\n",
       "      <th></th>\n",
       "      <th>MinTemp</th>\n",
       "      <th>MaxTemp</th>\n",
       "      <th>Rainfall</th>\n",
       "      <th>Evaporation</th>\n",
       "      <th>Sunshine</th>\n",
       "      <th>WindGustSpeed</th>\n",
       "      <th>WindSpeed9am</th>\n",
       "      <th>WindSpeed3pm</th>\n",
       "      <th>Humidity9am</th>\n",
       "      <th>Humidity3pm</th>\n",
       "      <th>Pressure9am</th>\n",
       "      <th>Pressure3pm</th>\n",
       "      <th>Cloud9am</th>\n",
       "      <th>Cloud3pm</th>\n",
       "      <th>Temp9am</th>\n",
       "      <th>Temp3pm</th>\n",
       "      <th>Year</th>\n",
       "      <th>Month</th>\n",
       "      <th>Day</th>\n",
       "    </tr>\n",
       "  </thead>\n",
       "  <tbody>\n",
       "    <tr>\n",
       "      <th>0</th>\n",
       "      <td>13.4</td>\n",
       "      <td>22.9</td>\n",
       "      <td>0.6</td>\n",
       "      <td>NaN</td>\n",
       "      <td>NaN</td>\n",
       "      <td>44.0</td>\n",
       "      <td>20.0</td>\n",
       "      <td>24.0</td>\n",
       "      <td>71.0</td>\n",
       "      <td>22.0</td>\n",
       "      <td>1007.7</td>\n",
       "      <td>1007.1</td>\n",
       "      <td>8.0</td>\n",
       "      <td>NaN</td>\n",
       "      <td>16.9</td>\n",
       "      <td>21.8</td>\n",
       "      <td>2008</td>\n",
       "      <td>12</td>\n",
       "      <td>1</td>\n",
       "    </tr>\n",
       "    <tr>\n",
       "      <th>1</th>\n",
       "      <td>7.4</td>\n",
       "      <td>25.1</td>\n",
       "      <td>0.0</td>\n",
       "      <td>NaN</td>\n",
       "      <td>NaN</td>\n",
       "      <td>44.0</td>\n",
       "      <td>4.0</td>\n",
       "      <td>22.0</td>\n",
       "      <td>44.0</td>\n",
       "      <td>25.0</td>\n",
       "      <td>1010.6</td>\n",
       "      <td>1007.8</td>\n",
       "      <td>NaN</td>\n",
       "      <td>NaN</td>\n",
       "      <td>17.2</td>\n",
       "      <td>24.3</td>\n",
       "      <td>2008</td>\n",
       "      <td>12</td>\n",
       "      <td>2</td>\n",
       "    </tr>\n",
       "    <tr>\n",
       "      <th>2</th>\n",
       "      <td>12.9</td>\n",
       "      <td>25.7</td>\n",
       "      <td>0.0</td>\n",
       "      <td>NaN</td>\n",
       "      <td>NaN</td>\n",
       "      <td>46.0</td>\n",
       "      <td>19.0</td>\n",
       "      <td>26.0</td>\n",
       "      <td>38.0</td>\n",
       "      <td>30.0</td>\n",
       "      <td>1007.6</td>\n",
       "      <td>1008.7</td>\n",
       "      <td>NaN</td>\n",
       "      <td>2.0</td>\n",
       "      <td>21.0</td>\n",
       "      <td>23.2</td>\n",
       "      <td>2008</td>\n",
       "      <td>12</td>\n",
       "      <td>3</td>\n",
       "    </tr>\n",
       "    <tr>\n",
       "      <th>3</th>\n",
       "      <td>9.2</td>\n",
       "      <td>28.0</td>\n",
       "      <td>0.0</td>\n",
       "      <td>NaN</td>\n",
       "      <td>NaN</td>\n",
       "      <td>24.0</td>\n",
       "      <td>11.0</td>\n",
       "      <td>9.0</td>\n",
       "      <td>45.0</td>\n",
       "      <td>16.0</td>\n",
       "      <td>1017.6</td>\n",
       "      <td>1012.8</td>\n",
       "      <td>NaN</td>\n",
       "      <td>NaN</td>\n",
       "      <td>18.1</td>\n",
       "      <td>26.5</td>\n",
       "      <td>2008</td>\n",
       "      <td>12</td>\n",
       "      <td>4</td>\n",
       "    </tr>\n",
       "    <tr>\n",
       "      <th>4</th>\n",
       "      <td>17.5</td>\n",
       "      <td>32.3</td>\n",
       "      <td>1.0</td>\n",
       "      <td>NaN</td>\n",
       "      <td>NaN</td>\n",
       "      <td>41.0</td>\n",
       "      <td>7.0</td>\n",
       "      <td>20.0</td>\n",
       "      <td>82.0</td>\n",
       "      <td>33.0</td>\n",
       "      <td>1010.8</td>\n",
       "      <td>1006.0</td>\n",
       "      <td>7.0</td>\n",
       "      <td>8.0</td>\n",
       "      <td>17.8</td>\n",
       "      <td>29.7</td>\n",
       "      <td>2008</td>\n",
       "      <td>12</td>\n",
       "      <td>5</td>\n",
       "    </tr>\n",
       "  </tbody>\n",
       "</table>\n",
       "</div>"
      ],
      "text/plain": [
       "   MinTemp  MaxTemp  Rainfall  Evaporation  Sunshine  WindGustSpeed  \\\n",
       "0     13.4     22.9       0.6          NaN       NaN           44.0   \n",
       "1      7.4     25.1       0.0          NaN       NaN           44.0   \n",
       "2     12.9     25.7       0.0          NaN       NaN           46.0   \n",
       "3      9.2     28.0       0.0          NaN       NaN           24.0   \n",
       "4     17.5     32.3       1.0          NaN       NaN           41.0   \n",
       "\n",
       "   WindSpeed9am  WindSpeed3pm  Humidity9am  Humidity3pm  Pressure9am  \\\n",
       "0          20.0          24.0         71.0         22.0       1007.7   \n",
       "1           4.0          22.0         44.0         25.0       1010.6   \n",
       "2          19.0          26.0         38.0         30.0       1007.6   \n",
       "3          11.0           9.0         45.0         16.0       1017.6   \n",
       "4           7.0          20.0         82.0         33.0       1010.8   \n",
       "\n",
       "   Pressure3pm  Cloud9am  Cloud3pm  Temp9am  Temp3pm  Year  Month  Day  \n",
       "0       1007.1       8.0       NaN     16.9     21.8  2008     12    1  \n",
       "1       1007.8       NaN       NaN     17.2     24.3  2008     12    2  \n",
       "2       1008.7       NaN       2.0     21.0     23.2  2008     12    3  \n",
       "3       1012.8       NaN       NaN     18.1     26.5  2008     12    4  \n",
       "4       1006.0       7.0       8.0     17.8     29.7  2008     12    5  "
      ]
     },
     "execution_count": 62,
     "metadata": {},
     "output_type": "execute_result"
    }
   ],
   "source": [
    "# view the numerical variables\n",
    "\n",
    "df[numerical].head()"
   ]
  },
  {
   "cell_type": "markdown",
   "id": "1198e5b1",
   "metadata": {},
   "source": [
    "#### Summary of numerical variables \n",
    "- There are 16 numerical variables.\n",
    "- These are given by MinTemp, MaxTemp, Rainfall, Evaporation, Sunshine, WindGustSpeed, WindSpeed9am, WindSpeed3pm, Humidity9am, Humidity3pm, Pressure9am, Pressure3pm, Cloud9am, Cloud3pm, Temp9am and Temp3pm.\n",
    "- All of the numerical variables are of continuous type."
   ]
  },
  {
   "cell_type": "markdown",
   "id": "c535806d",
   "metadata": {},
   "source": [
    "#### Explore problems within numerical variables \n",
    "##### In the following, I will explore the numerical variables."
   ]
  },
  {
   "cell_type": "markdown",
   "id": "2e8c6df5",
   "metadata": {},
   "source": [
    "### Missing values in numerical variables"
   ]
  },
  {
   "cell_type": "code",
   "execution_count": 63,
   "id": "c2796a0a",
   "metadata": {},
   "outputs": [
    {
     "data": {
      "text/plain": [
       "MinTemp           1485\n",
       "MaxTemp           1261\n",
       "Rainfall          3261\n",
       "Evaporation      62790\n",
       "Sunshine         69835\n",
       "WindGustSpeed    10263\n",
       "WindSpeed9am      1767\n",
       "WindSpeed3pm      3062\n",
       "Humidity9am       2654\n",
       "Humidity3pm       4507\n",
       "Pressure9am      15065\n",
       "Pressure3pm      15028\n",
       "Cloud9am         55888\n",
       "Cloud3pm         59358\n",
       "Temp9am           1767\n",
       "Temp3pm           3609\n",
       "Year                 0\n",
       "Month                0\n",
       "Day                  0\n",
       "dtype: int64"
      ]
     },
     "execution_count": 63,
     "metadata": {},
     "output_type": "execute_result"
    }
   ],
   "source": [
    "# check missing values in numerical variables\n",
    "\n",
    "df[numerical].isnull().sum()"
   ]
  },
  {
   "cell_type": "markdown",
   "id": "e8c86d1b",
   "metadata": {},
   "source": [
    "We can see that all the 16 numerical variables contain missing values."
   ]
  },
  {
   "cell_type": "markdown",
   "id": "c861f3aa",
   "metadata": {},
   "source": [
    "### Outliers in numerical variables"
   ]
  },
  {
   "cell_type": "code",
   "execution_count": 64,
   "id": "40501a7a",
   "metadata": {},
   "outputs": [
    {
     "name": "stdout",
     "output_type": "stream",
     "text": [
      "        MinTemp   MaxTemp  Rainfall  Evaporation  Sunshine  WindGustSpeed  \\\n",
      "count  143975.0  144199.0  142199.0      82670.0   75625.0       135197.0   \n",
      "mean       12.0      23.0       2.0          5.0       8.0           40.0   \n",
      "std         6.0       7.0       8.0          4.0       4.0           14.0   \n",
      "min        -8.0      -5.0       0.0          0.0       0.0            6.0   \n",
      "25%         8.0      18.0       0.0          3.0       5.0           31.0   \n",
      "50%        12.0      23.0       0.0          5.0       8.0           39.0   \n",
      "75%        17.0      28.0       1.0          7.0      11.0           48.0   \n",
      "max        34.0      48.0     371.0        145.0      14.0          135.0   \n",
      "\n",
      "       WindSpeed9am  WindSpeed3pm  Humidity9am  Humidity3pm  Pressure9am  \\\n",
      "count      143693.0      142398.0     142806.0     140953.0     130395.0   \n",
      "mean           14.0          19.0         69.0         52.0       1018.0   \n",
      "std             9.0           9.0         19.0         21.0          7.0   \n",
      "min             0.0           0.0          0.0          0.0        980.0   \n",
      "25%             7.0          13.0         57.0         37.0       1013.0   \n",
      "50%            13.0          19.0         70.0         52.0       1018.0   \n",
      "75%            19.0          24.0         83.0         66.0       1022.0   \n",
      "max           130.0          87.0        100.0        100.0       1041.0   \n",
      "\n",
      "       Pressure3pm  Cloud9am  Cloud3pm   Temp9am   Temp3pm      Year  \\\n",
      "count     130432.0   89572.0   86102.0  143693.0  141851.0  145460.0   \n",
      "mean        1015.0       4.0       5.0      17.0      22.0    2013.0   \n",
      "std            7.0       3.0       3.0       6.0       7.0       3.0   \n",
      "min          977.0       0.0       0.0      -7.0      -5.0    2007.0   \n",
      "25%         1010.0       1.0       2.0      12.0      17.0    2011.0   \n",
      "50%         1015.0       5.0       5.0      17.0      21.0    2013.0   \n",
      "75%         1020.0       7.0       7.0      22.0      26.0    2015.0   \n",
      "max         1040.0       9.0       9.0      40.0      47.0    2017.0   \n",
      "\n",
      "          Month       Day  \n",
      "count  145460.0  145460.0  \n",
      "mean        6.0      16.0  \n",
      "std         3.0       9.0  \n",
      "min         1.0       1.0  \n",
      "25%         3.0       8.0  \n",
      "50%         6.0      16.0  \n",
      "75%         9.0      23.0  \n",
      "max        12.0      31.0   2\n"
     ]
    }
   ],
   "source": [
    "# view summary statistics in numerical variables\n",
    "\n",
    "print(round(df[numerical].describe()),2)"
   ]
  },
  {
   "cell_type": "markdown",
   "id": "10266efc",
   "metadata": {},
   "source": [
    "On closer inspection, we can see that the Rainfall, Evaporation, Wind Speed 9am and Wind Speed 3pm columns may contain outliers.\n",
    "\n",
    "I will draw boxplots to visualise outliers in the above variables."
   ]
  },
  {
   "cell_type": "code",
   "execution_count": 65,
   "id": "868146c1",
   "metadata": {},
   "outputs": [
    {
     "data": {
      "text/plain": [
       "Text(0, 0.5, 'WindSpeed3pm')"
      ]
     },
     "execution_count": 65,
     "metadata": {},
     "output_type": "execute_result"
    },
    {
     "data": {
      "image/png": "[encoded data removed]",
      "text/plain": [
       "<Figure size 1500x1000 with 4 Axes>"
      ]
     },
     "metadata": {},
     "output_type": "display_data"
    }
   ],
   "source": [
    "# draw boxplots to visualize outliers\n",
    "\n",
    "plt.figure(figsize=(15,10))\n",
    "\n",
    "\n",
    "plt.subplot(2, 2, 1)\n",
    "fig = df.boxplot(column='Rainfall')\n",
    "fig.set_title('')\n",
    "fig.set_ylabel('Rainfall')\n",
    "\n",
    "\n",
    "plt.subplot(2, 2, 2)\n",
    "fig = df.boxplot(column='Evaporation')\n",
    "fig.set_title('')\n",
    "fig.set_ylabel('Evaporation')\n",
    "\n",
    "\n",
    "plt.subplot(2, 2, 3)\n",
    "fig = df.boxplot(column='WindSpeed9am')\n",
    "fig.set_title('')\n",
    "fig.set_ylabel('WindSpeed9am')\n",
    "\n",
    "\n",
    "plt.subplot(2, 2, 4)\n",
    "fig = df.boxplot(column='WindSpeed3pm')\n",
    "fig.set_title('')\n",
    "fig.set_ylabel('WindSpeed3pm')"
   ]
  },
  {
   "cell_type": "markdown",
   "id": "3fa3c61e",
   "metadata": {},
   "source": [
    "The above boxplots confirm that there are lot of outliers in these variables."
   ]
  }
 ],
 "metadata": {
  "kernelspec": {
   "display_name": "Python 3 (ipykernel)",
   "language": "python",
   "name": "python3"
  },
  "language_info": {
   "codemirror_mode": {
    "name": "ipython",
    "version": 3
   },
   "file_extension": ".py",
   "mimetype": "text/x-python",
   "name": "python",
   "nbconvert_exporter": "python",
   "pygments_lexer": "ipython3",
   "version": "3.9.15"
  }
 },
 "nbformat": 4,
 "nbformat_minor": 5
}
