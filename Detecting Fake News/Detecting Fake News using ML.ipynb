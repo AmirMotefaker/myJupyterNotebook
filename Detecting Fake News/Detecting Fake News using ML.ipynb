{
 "cells": [
  {
   "cell_type": "markdown",
   "id": "8bd7b19c",
   "metadata": {},
   "source": [
    "## Detecting Fake News using ML"
   ]
  },
  {
   "cell_type": "markdown",
   "id": "0892065d",
   "metadata": {},
   "source": [
    "### Importing Libraries"
   ]
  },
  {
   "cell_type": "code",
   "execution_count": 1,
   "id": "38bbb408",
   "metadata": {},
   "outputs": [],
   "source": [
    "import numpy as np\n",
    "import pandas as pd\n",
    "import itertools\n",
    "from sklearn.model_selection import train_test_split\n",
    "from sklearn.feature_extraction.text import TfidfVectorizer\n",
    "from sklearn.linear_model import PassiveAggressiveClassifier\n",
    "from sklearn.metrics import accuracy_score, confusion_matrix"
   ]
  },
  {
   "cell_type": "markdown",
   "id": "12642539",
   "metadata": {},
   "source": [
    "### Read the data"
   ]
  },
  {
   "cell_type": "code",
   "execution_count": 2,
   "id": "8acbd69c",
   "metadata": {},
   "outputs": [],
   "source": [
    "df=pd.read_csv('D:\\\\AMIR\\\\Programming\\\\Data Analyst\\\\Detecting Fake News\\\\news.csv')"
   ]
  }
 ],
 "metadata": {
  "kernelspec": {
   "display_name": "Python 3 (ipykernel)",
   "language": "python",
   "name": "python3"
  },
  "language_info": {
   "codemirror_mode": {
    "name": "ipython",
    "version": 3
   },
   "file_extension": ".py",
   "mimetype": "text/x-python",
   "name": "python",
   "nbconvert_exporter": "python",
   "pygments_lexer": "ipython3",
   "version": "3.9.15"
  }
 },
 "nbformat": 4,
 "nbformat_minor": 5
}
