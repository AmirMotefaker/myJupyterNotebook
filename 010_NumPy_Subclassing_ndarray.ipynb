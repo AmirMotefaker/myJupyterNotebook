{
 "cells": [
  {
   "cell_type": "markdown",
   "metadata": {},
   "source": [
    "**bclassing ndarray**\n"
   ]
  },
  {
   "cell_type": "markdown",
   "metadata": {},
   "source": [
    "View casting"
   ]
  },
  {
   "cell_type": "code",
   "execution_count": 1,
   "metadata": {},
   "outputs": [],
   "source": [
    "import numpy as np"
   ]
  },
  {
   "cell_type": "code",
   "execution_count": 2,
   "metadata": {},
   "outputs": [
    {
     "data": {
      "text/plain": [
       "__main__.C"
      ]
     },
     "execution_count": 2,
     "metadata": {},
     "output_type": "execute_result"
    }
   ],
   "source": [
    "class C(np.ndarray): pass\n",
    "arr = np.zeros((3,))\n",
    "c_arr = arr.view(C)\n",
    "type(c_arr)"
   ]
  },
  {
   "cell_type": "markdown",
   "metadata": {},
   "source": [
    "Creating new"
   ]
  },
  {
   "cell_type": "code",
   "execution_count": 3,
   "metadata": {},
   "outputs": [
    {
     "data": {
      "text/plain": [
       "__main__.C"
      ]
     },
     "execution_count": 3,
     "metadata": {},
     "output_type": "execute_result"
    }
   ],
   "source": [
    "v = c_arr[1:]\n",
    "type(v)"
   ]
  },
  {
   "cell_type": "code",
   "execution_count": 4,
   "metadata": {},
   "outputs": [
    {
     "data": {
      "text/plain": [
       "False"
      ]
     },
     "execution_count": 4,
     "metadata": {},
     "output_type": "execute_result"
    }
   ],
   "source": [
    "v is c_arr"
   ]
  },
  {
   "cell_type": "markdown",
   "metadata": {},
   "source": [
    "Implications for subclassing"
   ]
  },
  {
   "cell_type": "code",
   "execution_count": 5,
   "metadata": {},
   "outputs": [
    {
     "name": "stdout",
     "output_type": "stream",
     "text": [
      "Cls in __new__: <class '__main__.C'>\n",
      "Args in __new__: ('hello',)\n",
      "type(self) in __init__: <class '__main__.C'>\n",
      "Args in __init__: ('hello',)\n"
     ]
    }
   ],
   "source": [
    "class C:\n",
    "    def __new__(cls, *args):\n",
    "        print('Cls in __new__:', cls)\n",
    "        print('Args in __new__:', args)\n",
    "        # The `object` type __new__ method takes a single argument.\n",
    "        return object.__new__(cls)\n",
    "    def __init__(self, *args):\n",
    "        print('type(self) in __init__:', type(self))\n",
    "        print('Args in __init__:', args)\n",
    "c = C('hello')"
   ]
  },
  {
   "cell_type": "code",
   "execution_count": 6,
   "metadata": {},
   "outputs": [],
   "source": [
    "class D(C):\n",
    "    def __new__(cls, *args):\n",
    "        print('D cls is:', cls)\n",
    "        print('D args in __new__:', args)\n",
    "        return C.__new__(C, *args)\n",
    "\n",
    "    def __init__(self, *args):\n",
    "        # we never get here\n",
    "        print('In D __init__')"
   ]
  },
  {
   "cell_type": "code",
   "execution_count": 7,
   "metadata": {},
   "outputs": [
    {
     "name": "stdout",
     "output_type": "stream",
     "text": [
      "D cls is: <class '__main__.D'>\n",
      "D args in __new__: ('hello',)\n",
      "Cls in __new__: <class '__main__.C'>\n",
      "Args in __new__: ('hello',)\n"
     ]
    }
   ],
   "source": [
    "obj = D('hello')"
   ]
  },
  {
   "cell_type": "code",
   "execution_count": 8,
   "metadata": {},
   "outputs": [],
   "source": [
    "import numpy as np\n",
    "\n",
    "class C(np.ndarray):\n",
    "    def __new__(cls, *args, **kwargs):\n",
    "        print('In __new__ with class %s' % cls)\n",
    "        return super().__new__(cls, *args, **kwargs)\n",
    "\n",
    "    def __init__(self, *args, **kwargs):\n",
    "        # in practice you probably will not need or want an __init__\n",
    "        # method for your subclass\n",
    "        print('In __init__ with class %s' % self.__class__)\n",
    "\n",
    "    def __array_finalize__(self, obj):\n",
    "        print('In array_finalize:')\n",
    "        print('   self type is %s' % type(self))\n",
    "        print('   obj type is %s' % type(obj))"
   ]
  },
  {
   "cell_type": "code",
   "execution_count": 9,
   "metadata": {},
   "outputs": [
    {
     "name": "stdout",
     "output_type": "stream",
     "text": [
      "In __new__ with class <class '__main__.C'>\n",
      "In array_finalize:\n",
      "   self type is <class '__main__.C'>\n",
      "   obj type is <class 'NoneType'>\n",
      "In __init__ with class <class '__main__.C'>\n"
     ]
    }
   ],
   "source": [
    "c = C((10,))"
   ]
  },
  {
   "cell_type": "code",
   "execution_count": 10,
   "metadata": {},
   "outputs": [
    {
     "name": "stdout",
     "output_type": "stream",
     "text": [
      "In array_finalize:\n",
      "   self type is <class '__main__.C'>\n",
      "   obj type is <class 'numpy.ndarray'>\n"
     ]
    }
   ],
   "source": [
    "a = np.arange(10)\n",
    "cast_a = a.view(C)"
   ]
  },
  {
   "cell_type": "code",
   "execution_count": 11,
   "metadata": {},
   "outputs": [
    {
     "name": "stdout",
     "output_type": "stream",
     "text": [
      "In array_finalize:\n",
      "   self type is <class '__main__.C'>\n",
      "   obj type is <class '__main__.C'>\n"
     ]
    }
   ],
   "source": [
    "cv = c[:1]"
   ]
  },
  {
   "cell_type": "markdown",
   "metadata": {},
   "source": [
    "adding an extra attribute to ndarray"
   ]
  },
  {
   "cell_type": "code",
   "execution_count": 12,
   "metadata": {},
   "outputs": [],
   "source": [
    "import numpy as np\n",
    "\n",
    "class InfoArray(np.ndarray):\n",
    "\n",
    "    def __new__(subtype, shape, dtype=float, buffer=None, offset=0,\n",
    "                strides=None, order=None, info=None):\n",
    "        # Create the ndarray instance of our type, given the usual\n",
    "        # ndarray input arguments.  This will call the standard\n",
    "        # ndarray constructor, but return an object of our type.\n",
    "        # It also triggers a call to InfoArray.__array_finalize__\n",
    "        obj = super().__new__(subtype, shape, dtype,\n",
    "                              buffer, offset, strides, order)\n",
    "        # set the new 'info' attribute to the value passed\n",
    "        obj.info = info\n",
    "        # Finally, we must return the newly created object:\n",
    "        return obj\n",
    "\n",
    "    def __array_finalize__(self, obj):\n",
    "        # ``self`` is a new object resulting from\n",
    "        # ndarray.__new__(InfoArray, ...), therefore it only has\n",
    "        # attributes that the ndarray.__new__ constructor gave it -\n",
    "        # i.e. those of a standard ndarray.\n",
    "        #\n",
    "        # We could have got to the ndarray.__new__ call in 3 ways:\n",
    "        # From an explicit constructor - e.g. InfoArray():\n",
    "        #    obj is None\n",
    "        #    (we're in the middle of the InfoArray.__new__\n",
    "        #    constructor, and self.info will be set when we return to\n",
    "        #    InfoArray.__new__)\n",
    "        if obj is None: return\n",
    "        # From view casting - e.g arr.view(InfoArray):\n",
    "        #    obj is arr\n",
    "        #    (type(obj) can be InfoArray)\n",
    "        # From new-from-template - e.g infoarr[:3]\n",
    "        #    type(obj) is InfoArray\n",
    "        #\n",
    "        # Note that it is here, rather than in the __new__ method,\n",
    "        # that we set the default value for 'info', because this\n",
    "        # method sees all creation of default objects - with the\n",
    "        # InfoArray.__new__ constructor, but also with\n",
    "        # arr.view(InfoArray).\n",
    "        self.info = getattr(obj, 'info', None)\n",
    "        # We do not need to return anything"
   ]
  },
  {
   "cell_type": "code",
   "execution_count": 13,
   "metadata": {},
   "outputs": [
    {
     "data": {
      "text/plain": [
       "__main__.InfoArray"
      ]
     },
     "execution_count": 13,
     "metadata": {},
     "output_type": "execute_result"
    }
   ],
   "source": [
    "obj = InfoArray(shape=(3,)) # explicit constructor\n",
    "type(obj)"
   ]
  },
  {
   "cell_type": "code",
   "execution_count": 14,
   "metadata": {},
   "outputs": [
    {
     "data": {
      "text/plain": [
       "True"
      ]
     },
     "execution_count": 14,
     "metadata": {},
     "output_type": "execute_result"
    }
   ],
   "source": [
    "obj.info is None"
   ]
  },
  {
   "cell_type": "code",
   "execution_count": 15,
   "metadata": {},
   "outputs": [
    {
     "data": {
      "text/plain": [
       "'information'"
      ]
     },
     "execution_count": 15,
     "metadata": {},
     "output_type": "execute_result"
    }
   ],
   "source": [
    "obj = InfoArray(shape=(3,), info='information')\n",
    "obj.info"
   ]
  },
  {
   "cell_type": "code",
   "execution_count": 16,
   "metadata": {},
   "outputs": [
    {
     "data": {
      "text/plain": [
       "__main__.InfoArray"
      ]
     },
     "execution_count": 16,
     "metadata": {},
     "output_type": "execute_result"
    }
   ],
   "source": [
    "v = obj[1:] # new-from-template - here - slicing\n",
    "type(v)"
   ]
  },
  {
   "cell_type": "code",
   "execution_count": 17,
   "metadata": {},
   "outputs": [
    {
     "data": {
      "text/plain": [
       "'information'"
      ]
     },
     "execution_count": 17,
     "metadata": {},
     "output_type": "execute_result"
    }
   ],
   "source": [
    "v.info"
   ]
  },
  {
   "cell_type": "code",
   "execution_count": 18,
   "metadata": {},
   "outputs": [
    {
     "data": {
      "text/plain": [
       "__main__.InfoArray"
      ]
     },
     "execution_count": 18,
     "metadata": {},
     "output_type": "execute_result"
    }
   ],
   "source": [
    "arr = np.arange(10)\n",
    "cast_arr = arr.view(InfoArray) # view casting\n",
    "type(cast_arr)"
   ]
  },
  {
   "cell_type": "code",
   "execution_count": 19,
   "metadata": {},
   "outputs": [
    {
     "data": {
      "text/plain": [
       "True"
      ]
     },
     "execution_count": 19,
     "metadata": {},
     "output_type": "execute_result"
    }
   ],
   "source": [
    "cast_arr.info is None"
   ]
  },
  {
   "cell_type": "markdown",
   "metadata": {},
   "source": [
    "attribute added to existing array"
   ]
  },
  {
   "cell_type": "code",
   "execution_count": 1,
   "metadata": {},
   "outputs": [],
   "source": [
    "import numpy as np\n",
    "\n",
    "class RealisticInfoArray(np.ndarray):\n",
    "\n",
    "    def __new__(cls, input_array, info=None):\n",
    "        # Input array is an already formed ndarray instance\n",
    "        # We first cast to be our class type\n",
    "        obj = np.asarray(input_array).view(cls)\n",
    "        # add the new attribute to the created instance\n",
    "        obj.info = info\n",
    "        # Finally, we must return the newly created object:\n",
    "        return obj\n",
    "\n",
    "    def __array_finalize__(self, obj):\n",
    "        # see InfoArray.__array_finalize__ for comments\n",
    "        if obj is None: return\n",
    "        self.info = getattr(obj, 'info', None)"
   ]
  },
  {
   "cell_type": "code",
   "execution_count": 2,
   "metadata": {},
   "outputs": [
    {
     "data": {
      "text/plain": [
       "__main__.RealisticInfoArray"
      ]
     },
     "execution_count": 2,
     "metadata": {},
     "output_type": "execute_result"
    }
   ],
   "source": [
    "arr = np.arange(5)\n",
    "obj = RealisticInfoArray(arr, info='information')\n",
    "type(obj)"
   ]
  },
  {
   "cell_type": "code",
   "execution_count": 3,
   "metadata": {},
   "outputs": [
    {
     "data": {
      "text/plain": [
       "'information'"
      ]
     },
     "execution_count": 3,
     "metadata": {},
     "output_type": "execute_result"
    }
   ],
   "source": [
    "obj.info"
   ]
  },
  {
   "cell_type": "code",
   "execution_count": 5,
   "metadata": {},
   "outputs": [
    {
     "data": {
      "text/plain": [
       "__main__.RealisticInfoArray"
      ]
     },
     "execution_count": 5,
     "metadata": {},
     "output_type": "execute_result"
    }
   ],
   "source": [
    "v = obj[1:]\n",
    "type(v)"
   ]
  },
  {
   "cell_type": "code",
   "execution_count": 6,
   "metadata": {},
   "outputs": [
    {
     "data": {
      "text/plain": [
       "'information'"
      ]
     },
     "execution_count": 6,
     "metadata": {},
     "output_type": "execute_result"
    }
   ],
   "source": [
    "v.info"
   ]
  },
  {
   "cell_type": "markdown",
   "metadata": {},
   "source": [
    "__array_ufunc__ for ufuncs"
   ]
  },
  {
   "cell_type": "code",
   "execution_count": 9,
   "metadata": {},
   "outputs": [],
   "source": [
    "import numpy as np\n",
    "\n",
    "class A(np.ndarray):\n",
    "    def __array_ufunc__(self, ufunc, method, *inputs, out=None, **kwargs):\n",
    "        args = []\n",
    "        in_no = []\n",
    "        for i, input_ in enumerate(inputs):\n",
    "            if isinstance(input_, A):\n",
    "                in_no.append(i)\n",
    "                args.append(input_.view(np.ndarray))\n",
    "            else:\n",
    "                args.append(input_)\n",
    "\n",
    "        outputs = out\n",
    "        out_no = []\n",
    "        if outputs:\n",
    "            out_args = []\n",
    "            for j, output in enumerate(outputs):\n",
    "                if isinstance(output, A):\n",
    "                    out_no.append(j)\n",
    "                    out_args.append(output.view(np.ndarray))\n",
    "                else:\n",
    "                    out_args.append(output)\n",
    "            kwargs['out'] = tuple(out_args)\n",
    "        else:\n",
    "            outputs = (None,) * ufunc.nout\n",
    "\n",
    "        info = {}\n",
    "        if in_no:\n",
    "            info['inputs'] = in_no\n",
    "        if out_no:\n",
    "            info['outputs'] = out_no\n",
    "\n",
    "        results = super().__array_ufunc__(ufunc, method, *args, **kwargs)\n",
    "        if results is NotImplemented:\n",
    "            return NotImplemented\n",
    "\n",
    "        if method == 'at':\n",
    "            if isinstance(inputs[0], A):\n",
    "                inputs[0].info = info\n",
    "            return\n",
    "\n",
    "        if ufunc.nout == 1:\n",
    "            results = (results,)\n",
    "\n",
    "        results = tuple((np.asarray(result).view(A)\n",
    "                         if output is None else output)\n",
    "                        for result, output in zip(results, outputs))\n",
    "        if results and isinstance(results[0], A):\n",
    "            results[0].info = info\n",
    "\n",
    "        return results[0] if len(results) == 1 else results"
   ]
  },
  {
   "cell_type": "code",
   "execution_count": 10,
   "metadata": {},
   "outputs": [
    {
     "data": {
      "text/plain": [
       "{'inputs': [0]}"
      ]
     },
     "execution_count": 10,
     "metadata": {},
     "output_type": "execute_result"
    }
   ],
   "source": [
    "a = np.arange(5.).view(A)\n",
    "b = np.sin(a)\n",
    "b.info"
   ]
  },
  {
   "cell_type": "code",
   "execution_count": 11,
   "metadata": {},
   "outputs": [
    {
     "data": {
      "text/plain": [
       "{'outputs': [0]}"
      ]
     },
     "execution_count": 11,
     "metadata": {},
     "output_type": "execute_result"
    }
   ],
   "source": [
    "b = np.sin(np.arange(5.), out=(a,))\n",
    "b.info"
   ]
  },
  {
   "cell_type": "code",
   "execution_count": 12,
   "metadata": {},
   "outputs": [
    {
     "data": {
      "text/plain": [
       "{'inputs': [0, 1]}"
      ]
     },
     "execution_count": 12,
     "metadata": {},
     "output_type": "execute_result"
    }
   ],
   "source": [
    "a = np.arange(5.).view(A)\n",
    "b = np.ones(1).view(A)\n",
    "c = a + b\n",
    "c.info"
   ]
  },
  {
   "cell_type": "code",
   "execution_count": 13,
   "metadata": {},
   "outputs": [
    {
     "data": {
      "text/plain": [
       "{'inputs': [0, 1], 'outputs': [0]}"
      ]
     },
     "execution_count": 13,
     "metadata": {},
     "output_type": "execute_result"
    }
   ],
   "source": [
    "a += b\n",
    "a.info"
   ]
  },
  {
   "cell_type": "markdown",
   "metadata": {},
   "source": [
    "__array_wrap__ for ufuncs and other functions"
   ]
  },
  {
   "cell_type": "code",
   "execution_count": 14,
   "metadata": {},
   "outputs": [],
   "source": [
    "import numpy as np\n",
    "\n",
    "class MySubClass(np.ndarray):\n",
    "\n",
    "    def __new__(cls, input_array, info=None):\n",
    "        obj = np.asarray(input_array).view(cls)\n",
    "        obj.info = info\n",
    "        return obj\n",
    "\n",
    "    def __array_finalize__(self, obj):\n",
    "        print('In __array_finalize__:')\n",
    "        print('   self is %s' % repr(self))\n",
    "        print('   obj is %s' % repr(obj))\n",
    "        if obj is None: return\n",
    "        self.info = getattr(obj, 'info', None)\n",
    "\n",
    "    def __array_wrap__(self, out_arr, context=None):\n",
    "        print('In __array_wrap__:')\n",
    "        print('   self is %s' % repr(self))\n",
    "        print('   arr is %s' % repr(out_arr))\n",
    "        # then just call the parent\n",
    "        return super().__array_wrap__(self, out_arr, context)"
   ]
  },
  {
   "cell_type": "code",
   "execution_count": 15,
   "metadata": {},
   "outputs": [
    {
     "name": "stdout",
     "output_type": "stream",
     "text": [
      "In __array_finalize__:\n",
      "   self is MySubClass([0, 1, 2, 3, 4])\n",
      "   obj is array([0, 1, 2, 3, 4])\n"
     ]
    }
   ],
   "source": [
    "obj = MySubClass(np.arange(5), info='spam')"
   ]
  },
  {
   "cell_type": "code",
   "execution_count": 16,
   "metadata": {},
   "outputs": [
    {
     "name": "stdout",
     "output_type": "stream",
     "text": [
      "In __array_finalize__:\n",
      "   self is MySubClass([0, 1, 2, 3, 4])\n",
      "   obj is MySubClass([0, 1, 2, 3, 4])\n",
      "In __array_wrap__:\n",
      "   self is MySubClass([0, 1, 2, 3, 4])\n",
      "   arr is MySubClass([1, 3, 5, 7, 9])\n"
     ]
    }
   ],
   "source": [
    "arr2 = np.arange(5)+1\n",
    "ret = np.add(arr2, obj)"
   ]
  },
  {
   "cell_type": "code",
   "execution_count": 17,
   "metadata": {},
   "outputs": [
    {
     "data": {
      "text/plain": [
       "MySubClass([0, 1, 2, 3, 4])"
      ]
     },
     "execution_count": 17,
     "metadata": {},
     "output_type": "execute_result"
    }
   ],
   "source": [
    "ret"
   ]
  },
  {
   "cell_type": "code",
   "execution_count": 18,
   "metadata": {},
   "outputs": [
    {
     "data": {
      "text/plain": [
       "'spam'"
      ]
     },
     "execution_count": 18,
     "metadata": {},
     "output_type": "execute_result"
    }
   ],
   "source": [
    "ret.info"
   ]
  },
  {
   "cell_type": "code",
   "execution_count": 19,
   "metadata": {},
   "outputs": [],
   "source": [
    "class SillySubClass(np.ndarray):\n",
    "\n",
    "    def __array_wrap__(self, arr, context=None):\n",
    "        return 'I lost your data'"
   ]
  },
  {
   "cell_type": "code",
   "execution_count": 20,
   "metadata": {},
   "outputs": [
    {
     "data": {
      "text/plain": [
       "'I lost your data'"
      ]
     },
     "execution_count": 20,
     "metadata": {},
     "output_type": "execute_result"
    }
   ],
   "source": [
    "arr1 = np.arange(5)\n",
    "obj = arr1.view(SillySubClass)\n",
    "arr2 = np.arange(5)\n",
    "ret = np.multiply(obj, arr2)\n",
    "ret"
   ]
  },
  {
   "cell_type": "markdown",
   "metadata": {},
   "source": [
    "custom __del__ methods and ndarray.base"
   ]
  },
  {
   "cell_type": "code",
   "execution_count": 21,
   "metadata": {},
   "outputs": [
    {
     "data": {
      "text/plain": [
       "True"
      ]
     },
     "execution_count": 21,
     "metadata": {},
     "output_type": "execute_result"
    }
   ],
   "source": [
    "# A normal ndarray, that owns its own data\n",
    "arr = np.zeros((4,))\n",
    "# In this case, base is None\n",
    "arr.base is None"
   ]
  },
  {
   "cell_type": "code",
   "execution_count": 22,
   "metadata": {},
   "outputs": [
    {
     "data": {
      "text/plain": [
       "True"
      ]
     },
     "execution_count": 22,
     "metadata": {},
     "output_type": "execute_result"
    }
   ],
   "source": [
    "# We take a view\n",
    "v1 = arr[1:]\n",
    "# base now points to the array that it derived from\n",
    "v1.base is arr"
   ]
  },
  {
   "cell_type": "code",
   "execution_count": 23,
   "metadata": {},
   "outputs": [
    {
     "data": {
      "text/plain": [
       "True"
      ]
     },
     "execution_count": 23,
     "metadata": {},
     "output_type": "execute_result"
    }
   ],
   "source": [
    "# Take a view of a view\n",
    "v2 = v1[1:]\n",
    "# base points to the original array that it was derived from\n",
    "v2.base is arr"
   ]
  },
  {
   "cell_type": "markdown",
   "metadata": {},
   "source": [
    "Subclassing and Downstream Compatibility"
   ]
  },
  {
   "cell_type": "markdown",
   "metadata": {},
   "source": [
    "if you want your sub-class or duck-type to be compatible with numpy’s sum function, the method signature for this object’s sum method should be the following"
   ]
  },
  {
   "cell_type": "code",
   "execution_count": null,
   "metadata": {},
   "outputs": [],
   "source": [
    "def sum(self, axis=None, dtype=None, out=None, keepdims=False):"
   ]
  }
 ],
 "metadata": {
  "kernelspec": {
   "display_name": "Python 3.10.5 64-bit",
   "language": "python",
   "name": "python3"
  },
  "language_info": {
   "codemirror_mode": {
    "name": "ipython",
    "version": 3
   },
   "file_extension": ".py",
   "mimetype": "text/x-python",
   "name": "python",
   "nbconvert_exporter": "python",
   "pygments_lexer": "ipython3",
   "version": "3.10.5"
  },
  "orig_nbformat": 4,
  "vscode": {
   "interpreter": {
    "hash": "4af9bfa72ac9a7f926449ca223df7d586ff262b3c1d474ca7c991f7c814e3272"
   }
  }
 },
 "nbformat": 4,
 "nbformat_minor": 2
}
