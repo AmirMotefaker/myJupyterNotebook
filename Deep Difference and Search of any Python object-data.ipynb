{
 "cells": [
  {
   "cell_type": "markdown",
   "id": "7b0cf2eb",
   "metadata": {},
   "source": [
    "### List difference ignoring order or duplicates\n",
    "- Deep Difference and Search of any Python object/data. Recreate objects by adding adding deltas to each other."
   ]
  },
  {
   "cell_type": "code",
   "execution_count": 1,
   "id": "1305516f",
   "metadata": {},
   "outputs": [],
   "source": [
    "from deepdiff import DeepDiff"
   ]
  },
  {
   "cell_type": "code",
   "execution_count": 2,
   "id": "cd9151b2",
   "metadata": {},
   "outputs": [
    {
     "name": "stdout",
     "output_type": "stream",
     "text": [
      "{}\n"
     ]
    }
   ],
   "source": [
    "# Solution 1\n",
    "t1 = {1:1, 2:2, 3:3, 4:{\"a\":\"hello\", \"b\":[1, 2, 3]}}\n",
    "t2 = {1:1, 2:2, 3:3, 4:{\"a\":\"hello\", \"b\":[1, 3, 2, 3]}}\n",
    "ddiff = DeepDiff(t1, t2, ignore_order=True)\n",
    "print (ddiff)"
   ]
  },
  {
   "cell_type": "code",
   "execution_count": 3,
   "id": "23780074",
   "metadata": {},
   "outputs": [
    {
     "name": "stdout",
     "output_type": "stream",
     "text": [
      "{'values_changed': {\"root[4]['a']\": {'new_value': 'Hello', 'old_value': 'hello'}}}\n"
     ]
    }
   ],
   "source": [
    "# Solution 2\n",
    "t1 = {1:1, 2:2, 3:3, 4:{\"a\":\"hello\", \"b\":[1, 2, 3]}}\n",
    "t2 = {1:1, 2:2, 3:3, 4:{\"a\":\"Hello\", \"b\":[1, 3, 2, 3]}}\n",
    "ddiff = DeepDiff(t1, t2, ignore_order=True)\n",
    "print (ddiff)"
   ]
  }
 ],
 "metadata": {
  "kernelspec": {
   "display_name": "Python 3 (ipykernel)",
   "language": "python",
   "name": "python3"
  },
  "language_info": {
   "codemirror_mode": {
    "name": "ipython",
    "version": 3
   },
   "file_extension": ".py",
   "mimetype": "text/x-python",
   "name": "python",
   "nbconvert_exporter": "python",
   "pygments_lexer": "ipython3",
   "version": "3.9.15"
  }
 },
 "nbformat": 4,
 "nbformat_minor": 5
}
